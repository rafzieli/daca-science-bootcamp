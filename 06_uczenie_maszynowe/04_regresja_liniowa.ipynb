{
  "nbformat": 4,
  "nbformat_minor": 0,
  "metadata": {
    "colab": {
      "name": "04_regresja_liniowa.ipynb",
      "provenance": [],
      "include_colab_link": true
    },
    "kernelspec": {
      "name": "python3",
      "display_name": "Python 3"
    },
    "accelerator": "GPU"
  },
  "cells": [
    {
      "cell_type": "markdown",
      "metadata": {
        "id": "view-in-github",
        "colab_type": "text"
      },
      "source": [
        "<a href=\"https://colab.research.google.com/github/rafzieli/data-science-bootcamp/blob/main/06_uczenie_maszynowe/04_regresja_liniowa.ipynb\" target=\"_parent\"><img src=\"https://colab.research.google.com/assets/colab-badge.svg\" alt=\"Open In Colab\"/></a>"
      ]
    },
    {
      "cell_type": "markdown",
      "metadata": {
        "id": "dh1af8wsKEz5"
      },
      "source": [
        "* @author: krakowiakpawel9@gmail.com  \n",
        "* @site: e-smartdata.org"
      ]
    },
    {
      "cell_type": "markdown",
      "metadata": {
        "id": "xM27VDgTlXdO"
      },
      "source": [
        "### scikit-learn\n",
        "Strona biblioteki: [https://scikit-learn.org](https://scikit-learn.org)  \n",
        "\n",
        "Dokumentacja/User Guide: [https://scikit-learn.org/stable/user_guide.html](https://scikit-learn.org/stable/user_guide.html)\n",
        "\n",
        "Podstawowa biblioteka do uczenia maszynowego w języku Python.\n",
        "\n",
        "Aby zainstalować bibliotekę scikit-learn, użyj polecenia poniżej:\n",
        "```\n",
        "pip install scikit-learn\n",
        "```\n",
        "\n",
        "### Spis treści:\n",
        "1. [Regresja liniowa - wprowadzenie](#a1)\n",
        "2. [Wygenerowanie danych](#a2)\n",
        "3. [Podział danych na zbiór treningowy i testowy](#a3)\n",
        "4. [Wizualizacja](#a4)\n",
        "5. [Regresja liniowa](#a5)\n",
        "6. [Wizualizacja zbioru treningowego i dopasowanego modelu](#a6)\n",
        "7. [Wizualizacja zbioru testowego i dopasowanego modelu](#a7)\n",
        "8. [Ocena modelu](#a8)\n",
        "9. [Przykład złego zastosowania regresji liniowej](#a9)"
      ]
    },
    {
      "cell_type": "code",
      "metadata": {
        "id": "T5xUlwcVlYg4",
        "outputId": "0efae644-5181-41f6-8ffd-9b9a02db4c7a",
        "colab": {
          "base_uri": "https://localhost:8080/",
          "height": 35
        }
      },
      "source": [
        "\n",
        "\n",
        "import sklearn\n",
        "sklearn.__version__"
      ],
      "execution_count": 1,
      "outputs": [
        {
          "output_type": "execute_result",
          "data": {
            "text/plain": [
              "'1.0.2'"
            ],
            "application/vnd.google.colaboratory.intrinsic+json": {
              "type": "string"
            }
          },
          "metadata": {},
          "execution_count": 1
        }
      ]
    },
    {
      "cell_type": "markdown",
      "metadata": {
        "id": "O0beFDfiWD97"
      },
      "source": [
        "### <a name='a1'></a> Regresja Liniowa - wprowadzenie\n",
        "\n",
        "Zdefiniujmy:\n",
        "- $X_1, X_2, ..., X_n$ - zmienne niezależne (nasze dane do modelu)\n",
        "- $Y$ - zmienna docelowa\n",
        "- $y_{true}$ - wartość rzeczywista\n",
        "- $y_{pred}$ - wartość przewidziana przez model\n",
        "- $w_0, w_1,...,w_n$ - wagi do modelu (podlegaja uczeniu)\n",
        "\n",
        "W tym modelu zakłada się. ze wartość przewidywana $y_{pred}$ może być liniową kombinacją zmiennych niezależnych. Ogólna postac modelu:\n",
        "\n",
        ">  $$y_{pred}(W, X) = w_0 + w_1X_1 + ... + w_nX_n$$\n",
        ">  $$Y = XW$$\n",
        "\n",
        "gdzie:\n",
        ">  $X = \\begin{pmatrix} 1 & X_1 & X_2 & \\dots & X_n\\end{pmatrix}$,  $W = \\begin{pmatrix} w_{0} \\\\  w_{1}  \\\\ \\dots \\\\ w_{n}\\end{pmatrix}$\n",
        "\n",
        "Wprowadźmy oznaczenia:\n",
        "- $w = (w_1,...w_n)$ jako `coef_`\n",
        "- $w_0$ jako `intercept_`\n",
        "\n",
        "Regresja Liniowa polega na takim dopasowaniu wag $w_0, w_1,...,w_n$ by zminimalizować funkcję kosztu(cost function):   (To jest MSE w regresji)\n",
        ">$$||XW-Y||_{2}^{2} \\rightarrow min$$  \n",
        "\n",
        "\n",
        "Przykład w $R^2$:  \n",
        "$Y=w_0 + w_1X_1$\n",
        "\n",
        "Przykład w $R^3$:  \n",
        "$Y=w_0 + w_1X_1 + w_2X_2$\n",
        "\n",
        "\n"
      ]
    },
    {
      "cell_type": "markdown",
      "metadata": {
        "id": "g9TFJqBl6zsj"
      },
      "source": [
        "### Podstawowe założenia regresji liniowej\n",
        "\n",
        "* mamy zależność liniową\n",
        "* wariancja reszt jest taka sama dla wszystkich obserwacji\n",
        "* brak współliniowości (żaden z predyktorów nie stanowi kombinacji liniowej innych predyktorów)"
      ]
    },
    {
      "cell_type": "markdown",
      "metadata": {
        "id": "peQ6zK3Vf6bL"
      },
      "source": [
        "### <a name='a2'></a> Wygenerowanie danych\n",
        "\n",
        "Przykład w $R^2$:  \n",
        "$Y=w_0 + w_1X_1$"
      ]
    },
    {
      "cell_type": "code",
      "source": [
        "import numpy as np\n",
        "\n",
        "X = np.arange(0, 50, 0.5)\n",
        "noise = 10 * np.random.randn(100)\n",
        "y = 2 * X + 100 + noise\n",
        "X = X.reshape(-1,1)\n",
        "\n",
        "print('Rozmiar X:', X.shape)\n",
        "print('Rozmiar Y:', y.shape)"
      ],
      "metadata": {
        "id": "uJf4giU6vHTU",
        "outputId": "8fd72e3b-1907-421e-cff3-78a223b63d1f",
        "colab": {
          "base_uri": "https://localhost:8080/"
        }
      },
      "execution_count": 6,
      "outputs": [
        {
          "output_type": "stream",
          "name": "stdout",
          "text": [
            "Rozmiar X: (100, 1)\n",
            "Rozmiar Y: (100,)\n"
          ]
        }
      ]
    },
    {
      "cell_type": "markdown",
      "metadata": {
        "id": "mFgAtdiUknXb"
      },
      "source": [
        "### <a name='a3'></a> Podział danych na zbiór treningowy i testowy"
      ]
    },
    {
      "cell_type": "code",
      "source": [
        "from sklearn.model_selection import train_test_split\n",
        "\n",
        "X_train, X_test, y_train, y_test = train_test_split(X, y, test_size=0.25)\n",
        "print('X_train shape:', X_train.shape)\n",
        "print('X_test shape:', X_test.shape)\n",
        "print('y_train shape:', y_train.shape)\n",
        "print('y_test shape:', y_test.shape)"
      ],
      "metadata": {
        "id": "RwQ9jEu2vvoh",
        "outputId": "1ea06345-14cb-402f-eb5e-b8d1bb34232f",
        "colab": {
          "base_uri": "https://localhost:8080/"
        }
      },
      "execution_count": 9,
      "outputs": [
        {
          "output_type": "stream",
          "name": "stdout",
          "text": [
            "X_train shape: (75, 1)\n",
            "X_test shape: (25, 1)\n",
            "y_train shape: (75,)\n",
            "y_test shape: (25,)\n"
          ]
        }
      ]
    },
    {
      "cell_type": "markdown",
      "metadata": {
        "id": "oopABUY3f93i"
      },
      "source": [
        "### <a name='a4'></a> Wizualizacja"
      ]
    },
    {
      "cell_type": "code",
      "source": [
        "import matplotlib.pyplot as plt\n",
        "import seaborn as sns\n",
        "sns.set()\n",
        "\n",
        "plt.figure(figsize=(7, 5))\n",
        "plt.scatter(X_train, y_train, c='b', label='Zbior treingowy')\n",
        "plt.scatter(X_test, y_test, c='g', label='Zbior testowy')\n",
        "plt.xlabel('X')\n",
        "plt.ylabel('y')\n",
        "plt.legend()"
      ],
      "metadata": {
        "id": "7SUN8By5wizF",
        "outputId": "411a56e2-b03e-46a9-a94a-fa4559557ecd",
        "colab": {
          "base_uri": "https://localhost:8080/",
          "height": 357
        }
      },
      "execution_count": 11,
      "outputs": [
        {
          "output_type": "execute_result",
          "data": {
            "text/plain": [
              "<matplotlib.legend.Legend at 0x7fcbb7228210>"
            ]
          },
          "metadata": {},
          "execution_count": 11
        },
        {
          "output_type": "display_data",
          "data": {
            "text/plain": [
              "<Figure size 504x360 with 1 Axes>"
            ],
            "image/png": "[encoded data removed]"
          },
          "metadata": {}
        }
      ]
    },
    {
      "cell_type": "markdown",
      "metadata": {
        "id": "sNdzJ6cRpu6T"
      },
      "source": [
        "### <a name='a5'></a> Regresja liniowa"
      ]
    },
    {
      "cell_type": "code",
      "source": [
        "from sklearn.linear_model import LinearRegression\n",
        "\n",
        "lin_reg = LinearRegression()\n",
        "lin_reg.fit(X_train, y_train)\n",
        "\n",
        "\n",
        "# analogicznie do funkcji liniowej, coef_ to wsp 'a', intercept_ to wsp 'b' w f(x) = ax + b\n",
        "print(lin_reg.coef_) \n",
        "print(lin_reg.intercept_)"
      ],
      "metadata": {
        "id": "P9NJe5ITxWGc",
        "outputId": "a99d37a8-9950-4e33-be10-1faec038c4bc",
        "colab": {
          "base_uri": "https://localhost:8080/"
        }
      },
      "execution_count": 12,
      "outputs": [
        {
          "output_type": "stream",
          "name": "stdout",
          "text": [
            "[1.93986723]\n",
            "101.07481434746686\n"
          ]
        }
      ]
    },
    {
      "cell_type": "markdown",
      "metadata": {
        "id": "aFC7wSpmmbT1"
      },
      "source": [
        "Rozwiązaniem jest prosta o postaci:\n",
        "$Y=101.86 + 1.93\\cdot X_1$   \n",
        "### <a name='a6'></a>  Wizualizacja zbioru treningowego i dopasowanego modelu"
      ]
    },
    {
      "cell_type": "code",
      "source": [
        "plt.figure(figsize=(5,7))\n",
        "plt.title('Model regresji liniowej')\n",
        "plt.scatter(X_train, y_train, color='blue', label='Zbior treingowy')\n"
      ],
      "metadata": {
        "id": "JMtC0zdKyen3"
      },
      "execution_count": null,
      "outputs": []
    },
    {
      "cell_type": "markdown",
      "metadata": {
        "id": "EpmSbc4Xm92m"
      },
      "source": [
        "### <a name='a7'></a>  Wizualizacja zbioru testowego i dopasowanego modelu"
      ]
    },
    {
      "cell_type": "markdown",
      "metadata": {
        "id": "xVT9rxbRj8za"
      },
      "source": [
        "### <a name='a8'></a> Ocena modelu\n",
        "Metoda `score()` zwraca współczynnik determinacji $R^2$  naszej predykcji.\n",
        "\n",
        "Współczynnik determinacji jest zdefiniowany jako:\n",
        "\n",
        "### $R^{2} =1 - \\frac{\\sum_{t=1}^{n}(y_{pred, t} - \\bar{y}_{true} )^2}{\\sum_{t=1}^{n}(y_{true, t} - \\bar{y}_{true} )^2}$\n",
        "\n",
        "Współczynnik determinacji jest miarą stopnia dopasowania modelu do próby. Dopasowanie modelu jest tym lepsze im wartość $R^2$ jest bliżej 1."
      ]
    },
    {
      "cell_type": "markdown",
      "metadata": {
        "id": "d0uNxKGUjQlv"
      },
      "source": [
        "### <a name='a9'></a> Przykład złego zastosowania regresji liniowej"
      ]
    },
    {
      "cell_type": "code",
      "metadata": {
        "id": "OGb55kFe6MhN"
      },
      "source": [
        ""
      ],
      "execution_count": null,
      "outputs": []
    }
  ]
}