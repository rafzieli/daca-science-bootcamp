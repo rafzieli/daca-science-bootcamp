{
  "nbformat": 4,
  "nbformat_minor": 0,
  "metadata": {
    "colab": {
      "name": "07_k-najblizszych_sasiadow.ipynb",
      "provenance": [],
      "include_colab_link": true
    },
    "kernelspec": {
      "name": "python3",
      "display_name": "Python 3"
    },
    "accelerator": "GPU"
  },
  "cells": [
    {
      "cell_type": "markdown",
      "metadata": {
        "id": "view-in-github",
        "colab_type": "text"
      },
      "source": [
        "<a href=\"https://colab.research.google.com/github/rafzieli/data-science-bootcamp/blob/main/06_uczenie_maszynowe/07_k_najblizszych_sasiadow.ipynb\" target=\"_parent\"><img src=\"https://colab.research.google.com/assets/colab-badge.svg\" alt=\"Open In Colab\"/></a>"
      ]
    },
    {
      "cell_type": "markdown",
      "metadata": {
        "id": "-r5nTXQxKWrC"
      },
      "source": [
        "* @author: krakowiakpawel9@gmail.com  \n",
        "* @site: e-smartdata.org"
      ]
    },
    {
      "cell_type": "markdown",
      "metadata": {
        "id": "hq0gnK-OSk97"
      },
      "source": [
        "### scikit-learn\n",
        ">Strona biblioteki: [https://scikit-learn.org](https://scikit-learn.org)  \n",
        ">\n",
        ">Dokumentacja/User Guide: [https://scikit-learn.org/stable/user_guide.html](https://scikit-learn.org/stable/user_guide.html)\n",
        ">\n",
        ">Podstawowa biblioteka do uczenia maszynowego w języku Python.\n",
        ">\n",
        ">Aby zainstalować bibliotekę scikit-learn, użyj polecenia poniżej:\n",
        "```\n",
        "pip install scikit-learn\n",
        "```\n",
        "\n",
        "### Spis treści: \n",
        "1. [Import bibliotek](#a1)\n",
        "2. [K-nearest Neighbour Algorithm - Algorytm K-najbliższych sąsiadów](#a2)\n",
        "3. [Wykres Rozproszenia](#a3)\n",
        "4. [K-nearest Neighbors Classifier](#a4)\n",
        "5. [Wykres granic decyzyjnych](#a5)\n",
        "6. [Grid Search](#6)"
      ]
    },
    {
      "cell_type": "markdown",
      "metadata": {
        "id": "PW5oENTwYX4C"
      },
      "source": [
        "### <a name='a1'></a> Import bibliotek"
      ]
    },
    {
      "cell_type": "code",
      "metadata": {
        "id": "vBlrJmN2Xtt7"
      },
      "source": [
        "import numpy as np \n",
        "import pandas as pd\n",
        "import matplotlib.pyplot as plt\n",
        "import seaborn as sns\n",
        "import plotly.express as px\n",
        "sns.set()"
      ],
      "execution_count": null,
      "outputs": []
    },
    {
      "cell_type": "markdown",
      "metadata": {
        "id": "0w094asbLlOd"
      },
      "source": [
        "### <a name='a2'></a> K-nearest Neighbour Algorithm - Algorytm K-najbliższych sąsiadów\n",
        "\n",
        "Podstawą działania algorytmu jest:\n",
        "* znalezienie z góry określonej liczby próbek treningowych znajdujących się najbliżej naszej obserwacji \n",
        "* przewidzenie na ich podstawie etykiety\n",
        "\n",
        "Liczba sąsiadów jest określana przez użytkownika. Odległości zwykle kalkuluje sie przy pomocy metryki euklidesowej. "
      ]
    },
    {
      "cell_type": "markdown",
      "metadata": {
        "id": "_4k7XeK0OyL4"
      },
      "source": [
        "### <a name='a3'></a> Wykres Rozproszenia"
      ]
    },
    {
      "cell_type": "markdown",
      "metadata": {
        "id": "9jTW44ibZFvl"
      },
      "source": [
        "### <a name='a4'></a> K-nearest Neighbors Classifier"
      ]
    },
    {
      "cell_type": "markdown",
      "metadata": {
        "id": "PzBEe5TfOlv0"
      },
      "source": [
        "### <a name='a5'></a> Wykres granic decyzyjnych"
      ]
    },
    {
      "cell_type": "markdown",
      "metadata": {
        "id": "oCowed_9CGrF"
      },
      "source": [
        "### <a name='6'></a> Grid Search"
      ]
    },
    {
      "cell_type": "code",
      "metadata": {
        "id": "Wkuqedo_BL0-"
      },
      "source": [
        ""
      ],
      "execution_count": null,
      "outputs": []
    }
  ]
}