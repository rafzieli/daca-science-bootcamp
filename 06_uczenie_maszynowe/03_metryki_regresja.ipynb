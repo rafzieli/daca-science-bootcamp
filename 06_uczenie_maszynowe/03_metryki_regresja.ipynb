{
  "nbformat": 4,
  "nbformat_minor": 0,
  "metadata": {
    "colab": {
      "name": "03_metryki_regresja.ipynb",
      "provenance": [],
      "include_colab_link": true
    },
    "kernelspec": {
      "name": "python3",
      "display_name": "Python 3"
    }
  },
  "cells": [
    {
      "cell_type": "markdown",
      "metadata": {
        "id": "view-in-github",
        "colab_type": "text"
      },
      "source": [
        "<a href=\"https://colab.research.google.com/github/rafzieli/data-science-bootcamp/blob/main/06_uczenie_maszynowe/03_metryki_regresja.ipynb\" target=\"_parent\"><img src=\"https://colab.research.google.com/assets/colab-badge.svg\" alt=\"Open In Colab\"/></a>"
      ]
    },
    {
      "cell_type": "markdown",
      "metadata": {
        "id": "cVoURqdBJ6Vm"
      },
      "source": [
        "* @author: krakowiakpawel9@gmail.com  \n",
        "* @site: e-smartdata.org"
      ]
    },
    {
      "cell_type": "markdown",
      "metadata": {
        "id": "5gjFu2l9IMsj"
      },
      "source": [
        "### scikit-learn\n",
        ">Strona biblioteki: [https://scikit-learn.org](https://scikit-learn.org)  \n",
        ">\n",
        ">Dokumentacja/User Guide: [https://scikit-learn.org/stable/user_guide.html](https://scikit-learn.org/stable/user_guide.html)\n",
        ">\n",
        ">Podstawowa biblioteka do uczenia maszynowego w języku Python.\n",
        ">\n",
        ">Aby zainstalować bibliotekę scikit-learn, użyj polecenia poniżej:\n",
        "```\n",
        "pip install scikit-learn\n",
        "```\n",
        "\n",
        "### Metryki - Problem regresji:\n",
        "1. [Import bibliotek](#a0)\n",
        "2. [Interpretacja graficzna](#a2)\n",
        "3. [Mean Absolute Error - MAE - Średni błąd bezwzględny](#a3)\n",
        "4. [Mean Squared Error - MSE - Błąd średniokwadratowy](#a4)\n",
        "5. [Root Mean Squared Error - RMSE - Pierwiastek błędu średniokwadratowego](#a5)\n",
        "6. [Max Error - Błąd maksymalny](#a6)\n",
        "7. [R2 score - współczynnik determinacji](#a7)\n",
        "\n",
        "    "
      ]
    },
    {
      "cell_type": "markdown",
      "metadata": {
        "id": "1Dc4DhtS7LTD"
      },
      "source": [
        "### <a name='a0'></a>  Import bibliotek"
      ]
    },
    {
      "cell_type": "code",
      "metadata": {
        "id": "qQZ7LNIt7KAY"
      },
      "source": [
        "import numpy as np\n",
        "import pandas as pd\n",
        "import plotly.express as px\n",
        "import plotly.graph_objects as go"
      ],
      "execution_count": 2,
      "outputs": []
    },
    {
      "cell_type": "code",
      "metadata": {
        "id": "GhNVhidb7SG7",
        "outputId": "d321bd56-e205-4f9c-e7dc-75ea78707106",
        "colab": {
          "base_uri": "https://localhost:8080/"
        }
      },
      "source": [
        "y_true = 100 + 20 * np.random.randn(50)\n",
        "y_true"
      ],
      "execution_count": 3,
      "outputs": [
        {
          "output_type": "execute_result",
          "data": {
            "text/plain": [
              "array([ 81.66205812, 131.62753431,  91.72101971,  90.82374652,\n",
              "        91.34469896,  84.42187852, 127.26592331,  94.65984558,\n",
              "       105.83229658,  72.82390615, 100.93943895,  87.95432641,\n",
              "        73.72059132, 114.9148111 ,  96.45018522, 102.68631358,\n",
              "       104.32257632,  76.00190984,  84.23034178,  77.08489355,\n",
              "        65.31642508,  91.27601247, 102.94822194, 115.86151649,\n",
              "        99.92517257, 105.34751012, 115.35819946,  96.2695152 ,\n",
              "       118.90448057,  93.97624026,  87.58522144,  84.68875896,\n",
              "       106.69731787,  94.01009513,  72.87377703, 100.20624037,\n",
              "       125.75718816, 113.82067146, 109.97601752, 126.44655379,\n",
              "        88.91345757, 106.58481162, 111.15056903,  83.71671367,\n",
              "       117.16903357, 115.54741952, 127.35886647, 111.49842825,\n",
              "        97.41796096,  82.09937447])"
            ]
          },
          "metadata": {},
          "execution_count": 3
        }
      ]
    },
    {
      "cell_type": "code",
      "metadata": {
        "id": "HuAJr61k7cJV",
        "outputId": "0829b6f6-0e07-4b61-9e7a-3b0acf3652e3",
        "colab": {
          "base_uri": "https://localhost:8080/"
        }
      },
      "source": [
        "y_pred = y_true + 10 * np.random.randn(50)\n",
        "y_pred"
      ],
      "execution_count": 4,
      "outputs": [
        {
          "output_type": "execute_result",
          "data": {
            "text/plain": [
              "array([ 72.87912626, 128.73598629, 100.10582901,  79.79754858,\n",
              "        85.20561703, 104.6001129 , 111.65997082,  86.22421348,\n",
              "       102.74554927,  85.81855119, 100.82269626,  96.95386503,\n",
              "        84.26659122, 112.23683208,  93.47506907, 104.13394683,\n",
              "       107.08937115,  60.50579725,  89.1375272 ,  67.26129768,\n",
              "        67.09290171,  88.52579551, 126.06914943, 100.86071582,\n",
              "       102.60378415,  90.72204919, 105.25043137,  84.36651948,\n",
              "       143.70035685,  78.64155599,  83.73296298,  78.26453752,\n",
              "       102.32815843, 101.82572183,  65.32941085,  95.07155759,\n",
              "       116.51026935, 104.67611925, 120.75925887, 113.38042279,\n",
              "        87.42447101,  92.2468633 , 122.74810645,  74.76543619,\n",
              "       104.09265528, 114.85690642, 140.32430665, 113.42738104,\n",
              "       111.06200765,  69.94035934])"
            ]
          },
          "metadata": {},
          "execution_count": 4
        }
      ]
    },
    {
      "cell_type": "code",
      "source": [
        "results = pd.DataFrame({'y_true':y_true, 'y_pred':y_pred})\n",
        "results.head()"
      ],
      "metadata": {
        "id": "jiKNoV3vkiaG",
        "outputId": "8380aa96-713e-4f64-bff4-d3b8775fc0fb",
        "colab": {
          "base_uri": "https://localhost:8080/",
          "height": 206
        }
      },
      "execution_count": 5,
      "outputs": [
        {
          "output_type": "execute_result",
          "data": {
            "text/plain": [
              "       y_true      y_pred\n",
              "0   81.662058   72.879126\n",
              "1  131.627534  128.735986\n",
              "2   91.721020  100.105829\n",
              "3   90.823747   79.797549\n",
              "4   91.344699   85.205617"
            ],
            "text/html": [
              "\n",
              "  <div id=\"df-9e22e462-59f9-479f-9983-50e57eb55f02\">\n",
              "    <div class=\"colab-df-container\">\n",
              "      <div>\n",
              "<style scoped>\n",
              "    .dataframe tbody tr th:only-of-type {\n",
              "        vertical-align: middle;\n",
              "    }\n",
              "\n",
              "    .dataframe tbody tr th {\n",
              "        vertical-align: top;\n",
              "    }\n",
              "\n",
              "    .dataframe thead th {\n",
              "        text-align: right;\n",
              "    }\n",
              "</style>\n",
              "<table border=\"1\" class=\"dataframe\">\n",
              "  <thead>\n",
              "    <tr style=\"text-align: right;\">\n",
              "      <th></th>\n",
              "      <th>y_true</th>\n",
              "      <th>y_pred</th>\n",
              "    </tr>\n",
              "  </thead>\n",
              "  <tbody>\n",
              "    <tr>\n",
              "      <th>0</th>\n",
              "      <td>81.662058</td>\n",
              "      <td>72.879126</td>\n",
              "    </tr>\n",
              "    <tr>\n",
              "      <th>1</th>\n",
              "      <td>131.627534</td>\n",
              "      <td>128.735986</td>\n",
              "    </tr>\n",
              "    <tr>\n",
              "      <th>2</th>\n",
              "      <td>91.721020</td>\n",
              "      <td>100.105829</td>\n",
              "    </tr>\n",
              "    <tr>\n",
              "      <th>3</th>\n",
              "      <td>90.823747</td>\n",
              "      <td>79.797549</td>\n",
              "    </tr>\n",
              "    <tr>\n",
              "      <th>4</th>\n",
              "      <td>91.344699</td>\n",
              "      <td>85.205617</td>\n",
              "    </tr>\n",
              "  </tbody>\n",
              "</table>\n",
              "</div>\n",
              "      <button class=\"colab-df-convert\" onclick=\"convertToInteractive('df-9e22e462-59f9-479f-9983-50e57eb55f02')\"\n",
              "              title=\"Convert this dataframe to an interactive table.\"\n",
              "              style=\"display:none;\">\n",
              "        \n",
              "  <svg xmlns=\"http://www.w3.org/2000/svg\" height=\"24px\"viewBox=\"0 0 24 24\"\n",
              "       width=\"24px\">\n",
              "    <path d=\"M0 0h24v24H0V0z\" fill=\"none\"/>\n",
              "    <path d=\"M18.56 5.44l.94 2.06.94-2.06 2.06-.94-2.06-.94-.94-2.06-.94 2.06-2.06.94zm-11 1L8.5 8.5l.94-2.06 2.06-.94-2.06-.94L8.5 2.5l-.94 2.06-2.06.94zm10 10l.94 2.06.94-2.06 2.06-.94-2.06-.94-.94-2.06-.94 2.06-2.06.94z\"/><path d=\"M17.41 7.96l-1.37-1.37c-.4-.4-.92-.59-1.43-.59-.52 0-1.04.2-1.43.59L10.3 9.45l-7.72 7.72c-.78.78-.78 2.05 0 2.83L4 21.41c.39.39.9.59 1.41.59.51 0 1.02-.2 1.41-.59l7.78-7.78 2.81-2.81c.8-.78.8-2.07 0-2.86zM5.41 20L4 18.59l7.72-7.72 1.47 1.35L5.41 20z\"/>\n",
              "  </svg>\n",
              "      </button>\n",
              "      \n",
              "  <style>\n",
              "    .colab-df-container {\n",
              "      display:flex;\n",
              "      flex-wrap:wrap;\n",
              "      gap: 12px;\n",
              "    }\n",
              "\n",
              "    .colab-df-convert {\n",
              "      background-color: #E8F0FE;\n",
              "      border: none;\n",
              "      border-radius: 50%;\n",
              "      cursor: pointer;\n",
              "      display: none;\n",
              "      fill: #1967D2;\n",
              "      height: 32px;\n",
              "      padding: 0 0 0 0;\n",
              "      width: 32px;\n",
              "    }\n",
              "\n",
              "    .colab-df-convert:hover {\n",
              "      background-color: #E2EBFA;\n",
              "      box-shadow: 0px 1px 2px rgba(60, 64, 67, 0.3), 0px 1px 3px 1px rgba(60, 64, 67, 0.15);\n",
              "      fill: #174EA6;\n",
              "    }\n",
              "\n",
              "    [theme=dark] .colab-df-convert {\n",
              "      background-color: #3B4455;\n",
              "      fill: #D2E3FC;\n",
              "    }\n",
              "\n",
              "    [theme=dark] .colab-df-convert:hover {\n",
              "      background-color: #434B5C;\n",
              "      box-shadow: 0px 1px 3px 1px rgba(0, 0, 0, 0.15);\n",
              "      filter: drop-shadow(0px 1px 2px rgba(0, 0, 0, 0.3));\n",
              "      fill: #FFFFFF;\n",
              "    }\n",
              "  </style>\n",
              "\n",
              "      <script>\n",
              "        const buttonEl =\n",
              "          document.querySelector('#df-9e22e462-59f9-479f-9983-50e57eb55f02 button.colab-df-convert');\n",
              "        buttonEl.style.display =\n",
              "          google.colab.kernel.accessAllowed ? 'block' : 'none';\n",
              "\n",
              "        async function convertToInteractive(key) {\n",
              "          const element = document.querySelector('#df-9e22e462-59f9-479f-9983-50e57eb55f02');\n",
              "          const dataTable =\n",
              "            await google.colab.kernel.invokeFunction('convertToInteractive',\n",
              "                                                     [key], {});\n",
              "          if (!dataTable) return;\n",
              "\n",
              "          const docLinkHtml = 'Like what you see? Visit the ' +\n",
              "            '<a target=\"_blank\" href=https://colab.research.google.com/notebooks/data_table.ipynb>data table notebook</a>'\n",
              "            + ' to learn more about interactive tables.';\n",
              "          element.innerHTML = '';\n",
              "          dataTable['output_type'] = 'display_data';\n",
              "          await google.colab.output.renderOutput(dataTable, element);\n",
              "          const docLink = document.createElement('div');\n",
              "          docLink.innerHTML = docLinkHtml;\n",
              "          element.appendChild(docLink);\n",
              "        }\n",
              "      </script>\n",
              "    </div>\n",
              "  </div>\n",
              "  "
            ]
          },
          "metadata": {},
          "execution_count": 5
        }
      ]
    },
    {
      "cell_type": "code",
      "source": [
        "results['error'] = results.y_true - results.y_pred\n",
        "results.head()"
      ],
      "metadata": {
        "id": "i5_IswyJkxM9",
        "outputId": "f4cfae3f-3c81-47bc-d533-1e05b6f365e7",
        "colab": {
          "base_uri": "https://localhost:8080/",
          "height": 206
        }
      },
      "execution_count": 6,
      "outputs": [
        {
          "output_type": "execute_result",
          "data": {
            "text/plain": [
              "       y_true      y_pred      error\n",
              "0   81.662058   72.879126   8.782932\n",
              "1  131.627534  128.735986   2.891548\n",
              "2   91.721020  100.105829  -8.384809\n",
              "3   90.823747   79.797549  11.026198\n",
              "4   91.344699   85.205617   6.139082"
            ],
            "text/html": [
              "\n",
              "  <div id=\"df-375b9ab8-e5ce-4fa0-b0bf-57932451029b\">\n",
              "    <div class=\"colab-df-container\">\n",
              "      <div>\n",
              "<style scoped>\n",
              "    .dataframe tbody tr th:only-of-type {\n",
              "        vertical-align: middle;\n",
              "    }\n",
              "\n",
              "    .dataframe tbody tr th {\n",
              "        vertical-align: top;\n",
              "    }\n",
              "\n",
              "    .dataframe thead th {\n",
              "        text-align: right;\n",
              "    }\n",
              "</style>\n",
              "<table border=\"1\" class=\"dataframe\">\n",
              "  <thead>\n",
              "    <tr style=\"text-align: right;\">\n",
              "      <th></th>\n",
              "      <th>y_true</th>\n",
              "      <th>y_pred</th>\n",
              "      <th>error</th>\n",
              "    </tr>\n",
              "  </thead>\n",
              "  <tbody>\n",
              "    <tr>\n",
              "      <th>0</th>\n",
              "      <td>81.662058</td>\n",
              "      <td>72.879126</td>\n",
              "      <td>8.782932</td>\n",
              "    </tr>\n",
              "    <tr>\n",
              "      <th>1</th>\n",
              "      <td>131.627534</td>\n",
              "      <td>128.735986</td>\n",
              "      <td>2.891548</td>\n",
              "    </tr>\n",
              "    <tr>\n",
              "      <th>2</th>\n",
              "      <td>91.721020</td>\n",
              "      <td>100.105829</td>\n",
              "      <td>-8.384809</td>\n",
              "    </tr>\n",
              "    <tr>\n",
              "      <th>3</th>\n",
              "      <td>90.823747</td>\n",
              "      <td>79.797549</td>\n",
              "      <td>11.026198</td>\n",
              "    </tr>\n",
              "    <tr>\n",
              "      <th>4</th>\n",
              "      <td>91.344699</td>\n",
              "      <td>85.205617</td>\n",
              "      <td>6.139082</td>\n",
              "    </tr>\n",
              "  </tbody>\n",
              "</table>\n",
              "</div>\n",
              "      <button class=\"colab-df-convert\" onclick=\"convertToInteractive('df-375b9ab8-e5ce-4fa0-b0bf-57932451029b')\"\n",
              "              title=\"Convert this dataframe to an interactive table.\"\n",
              "              style=\"display:none;\">\n",
              "        \n",
              "  <svg xmlns=\"http://www.w3.org/2000/svg\" height=\"24px\"viewBox=\"0 0 24 24\"\n",
              "       width=\"24px\">\n",
              "    <path d=\"M0 0h24v24H0V0z\" fill=\"none\"/>\n",
              "    <path d=\"M18.56 5.44l.94 2.06.94-2.06 2.06-.94-2.06-.94-.94-2.06-.94 2.06-2.06.94zm-11 1L8.5 8.5l.94-2.06 2.06-.94-2.06-.94L8.5 2.5l-.94 2.06-2.06.94zm10 10l.94 2.06.94-2.06 2.06-.94-2.06-.94-.94-2.06-.94 2.06-2.06.94z\"/><path d=\"M17.41 7.96l-1.37-1.37c-.4-.4-.92-.59-1.43-.59-.52 0-1.04.2-1.43.59L10.3 9.45l-7.72 7.72c-.78.78-.78 2.05 0 2.83L4 21.41c.39.39.9.59 1.41.59.51 0 1.02-.2 1.41-.59l7.78-7.78 2.81-2.81c.8-.78.8-2.07 0-2.86zM5.41 20L4 18.59l7.72-7.72 1.47 1.35L5.41 20z\"/>\n",
              "  </svg>\n",
              "      </button>\n",
              "      \n",
              "  <style>\n",
              "    .colab-df-container {\n",
              "      display:flex;\n",
              "      flex-wrap:wrap;\n",
              "      gap: 12px;\n",
              "    }\n",
              "\n",
              "    .colab-df-convert {\n",
              "      background-color: #E8F0FE;\n",
              "      border: none;\n",
              "      border-radius: 50%;\n",
              "      cursor: pointer;\n",
              "      display: none;\n",
              "      fill: #1967D2;\n",
              "      height: 32px;\n",
              "      padding: 0 0 0 0;\n",
              "      width: 32px;\n",
              "    }\n",
              "\n",
              "    .colab-df-convert:hover {\n",
              "      background-color: #E2EBFA;\n",
              "      box-shadow: 0px 1px 2px rgba(60, 64, 67, 0.3), 0px 1px 3px 1px rgba(60, 64, 67, 0.15);\n",
              "      fill: #174EA6;\n",
              "    }\n",
              "\n",
              "    [theme=dark] .colab-df-convert {\n",
              "      background-color: #3B4455;\n",
              "      fill: #D2E3FC;\n",
              "    }\n",
              "\n",
              "    [theme=dark] .colab-df-convert:hover {\n",
              "      background-color: #434B5C;\n",
              "      box-shadow: 0px 1px 3px 1px rgba(0, 0, 0, 0.15);\n",
              "      filter: drop-shadow(0px 1px 2px rgba(0, 0, 0, 0.3));\n",
              "      fill: #FFFFFF;\n",
              "    }\n",
              "  </style>\n",
              "\n",
              "      <script>\n",
              "        const buttonEl =\n",
              "          document.querySelector('#df-375b9ab8-e5ce-4fa0-b0bf-57932451029b button.colab-df-convert');\n",
              "        buttonEl.style.display =\n",
              "          google.colab.kernel.accessAllowed ? 'block' : 'none';\n",
              "\n",
              "        async function convertToInteractive(key) {\n",
              "          const element = document.querySelector('#df-375b9ab8-e5ce-4fa0-b0bf-57932451029b');\n",
              "          const dataTable =\n",
              "            await google.colab.kernel.invokeFunction('convertToInteractive',\n",
              "                                                     [key], {});\n",
              "          if (!dataTable) return;\n",
              "\n",
              "          const docLinkHtml = 'Like what you see? Visit the ' +\n",
              "            '<a target=\"_blank\" href=https://colab.research.google.com/notebooks/data_table.ipynb>data table notebook</a>'\n",
              "            + ' to learn more about interactive tables.';\n",
              "          element.innerHTML = '';\n",
              "          dataTable['output_type'] = 'display_data';\n",
              "          await google.colab.output.renderOutput(dataTable, element);\n",
              "          const docLink = document.createElement('div');\n",
              "          docLink.innerHTML = docLinkHtml;\n",
              "          element.appendChild(docLink);\n",
              "        }\n",
              "      </script>\n",
              "    </div>\n",
              "  </div>\n",
              "  "
            ]
          },
          "metadata": {},
          "execution_count": 6
        }
      ]
    },
    {
      "cell_type": "markdown",
      "metadata": {
        "id": "JkXYHzBlCrXB"
      },
      "source": [
        "\n",
        "### <a name='a2'></a> Interpretacja graficzna"
      ]
    },
    {
      "cell_type": "code",
      "source": [
        "def plot_regression_results(y_true, y_pred):\n",
        "  results = pd.DataFrame({'y_true':y_true, 'y_pred':y_pred})\n",
        "  min = results[['y_true', 'y_pred']].min().min()\n",
        "  max = results[['y_true', 'y_pred']].max().max()\n",
        "\n",
        "  fig = go.Figure(data=[\n",
        "                        go.Scatter(x=results.y_true, y=results.y_pred, mode='markers'),\n",
        "                        go.Scatter(x=[min, max], y=[min, max])],\n",
        "                  layout=go.Layout(showlegend=False,\n",
        "                                   width=800,\n",
        "                                   xaxis_title='y_true',\n",
        "                                   yaxis_title='y_pred',\n",
        "                                   title='Regresion results'))\n",
        "  \n",
        "  fig.show()\n",
        "\n",
        "plot_regression_results(y_true, y_pred)"
      ],
      "metadata": {
        "id": "kurqesGHlMvM",
        "outputId": "06cb4895-aca3-4253-95ea-b18681d49865",
        "colab": {
          "base_uri": "https://localhost:8080/",
          "height": 542
        }
      },
      "execution_count": 8,
      "outputs": [
        {
          "output_type": "display_data",
          "data": {
            "text/html": [
              "<html>\n",
              "<head><meta charset=\"utf-8\" /></head>\n",
              "<body>\n",
              "    <div>            <script src=\"https://cdnjs.cloudflare.com/ajax/libs/mathjax/2.7.5/MathJax.js?config=TeX-AMS-MML_SVG\"></script><script type=\"text/javascript\">if (window.MathJax) {MathJax.Hub.Config({SVG: {font: \"STIX-Web\"}});}</script>                <script type=\"text/javascript\">window.PlotlyConfig = {MathJaxConfig: 'local'};</script>\n",
              "        <script src=\"https://cdn.plot.ly/plotly-2.8.3.min.js\"></script>                <div id=\"b451a452-ea19-40c8-bc07-ca4bf241436c\" class=\"plotly-graph-div\" style=\"height:525px; width:800px;\"></div>            <script type=\"text/javascript\">                                    window.PLOTLYENV=window.PLOTLYENV || {};                                    if (document.getElementById(\"b451a452-ea19-40c8-bc07-ca4bf241436c\")) {                    Plotly.newPlot(                        \"b451a452-ea19-40c8-bc07-ca4bf241436c\",                        [{\"mode\":\"markers\",\"x\":[81.66205811824803,131.62753430611173,91.72101971315693,90.82374651520789,91.3446989551744,84.42187851613973,127.26592331440055,94.65984557543239,105.83229657632941,72.82390615462295,100.9394389530671,87.95432641102857,73.72059132284923,114.91481109558856,96.45018521607268,102.68631358314957,104.32257632325079,76.0019098414074,84.23034178124179,77.08489354793144,65.3164250818963,91.27601246724291,102.94822194250553,115.86151648521317,99.92517256761208,105.34751012448307,115.35819945758541,96.26951520454082,118.90448056720525,93.97624026332338,87.58522144211874,84.68875895774491,106.69731786500103,94.01009513348468,72.87377703283352,100.20624037170549,125.75718815550145,113.82067146116015,109.97601751510108,126.44655378905789,88.91345757199919,106.58481161796834,111.1505690323894,83.71671366886996,117.16903357084902,115.5474195243637,127.35886647019078,111.49842824773287,97.41796095821184,82.0993744656226],\"y\":[72.87912625793824,128.7359862948427,100.10582901140711,79.7975485819848,85.20561702661556,104.60011289843222,111.6599708183926,86.22421348208671,102.74554927156184,85.81855118807293,100.82269626176704,96.95386503347827,84.2665912208665,112.23683208131621,93.47506906794291,104.1339468304324,107.08937114570378,60.505797246699764,89.13752720159827,67.26129767951205,67.09290171123084,88.52579551154962,126.06914943192054,100.86071582181576,102.60378415283584,90.72204919393108,105.25043136820287,84.3665194780104,143.70035684708458,78.64155599337485,83.73296298315951,78.26453751969322,102.32815842799198,101.8257218273967,65.32941085290928,95.07155759390724,116.51026935247798,104.67611925076766,120.75925887413223,113.380422790207,87.42447100684281,92.2468633018392,122.74810644978375,74.7654361877078,104.09265527895,114.85690641753183,140.3243066547474,113.42738104285768,111.06200765191991,69.94035934183312],\"type\":\"scatter\"},{\"x\":[60.505797246699764,143.70035684708458],\"y\":[60.505797246699764,143.70035684708458],\"type\":\"scatter\"}],                        {\"showlegend\":false,\"title\":{\"text\":\"Regresion results\"},\"width\":800,\"xaxis\":{\"title\":{\"text\":\"y_true\"}},\"yaxis\":{\"title\":{\"text\":\"y_pred\"}},\"template\":{\"data\":{\"bar\":[{\"error_x\":{\"color\":\"#2a3f5f\"},\"error_y\":{\"color\":\"#2a3f5f\"},\"marker\":{\"line\":{\"color\":\"#E5ECF6\",\"width\":0.5},\"pattern\":{\"fillmode\":\"overlay\",\"size\":10,\"solidity\":0.2}},\"type\":\"bar\"}],\"barpolar\":[{\"marker\":{\"line\":{\"color\":\"#E5ECF6\",\"width\":0.5},\"pattern\":{\"fillmode\":\"overlay\",\"size\":10,\"solidity\":0.2}},\"type\":\"barpolar\"}],\"carpet\":[{\"aaxis\":{\"endlinecolor\":\"#2a3f5f\",\"gridcolor\":\"white\",\"linecolor\":\"white\",\"minorgridcolor\":\"white\",\"startlinecolor\":\"#2a3f5f\"},\"baxis\":{\"endlinecolor\":\"#2a3f5f\",\"gridcolor\":\"white\",\"linecolor\":\"white\",\"minorgridcolor\":\"white\",\"startlinecolor\":\"#2a3f5f\"},\"type\":\"carpet\"}],\"choropleth\":[{\"colorbar\":{\"outlinewidth\":0,\"ticks\":\"\"},\"type\":\"choropleth\"}],\"contour\":[{\"colorbar\":{\"outlinewidth\":0,\"ticks\":\"\"},\"colorscale\":[[0.0,\"#0d0887\"],[0.1111111111111111,\"#46039f\"],[0.2222222222222222,\"#7201a8\"],[0.3333333333333333,\"#9c179e\"],[0.4444444444444444,\"#bd3786\"],[0.5555555555555556,\"#d8576b\"],[0.6666666666666666,\"#ed7953\"],[0.7777777777777778,\"#fb9f3a\"],[0.8888888888888888,\"#fdca26\"],[1.0,\"#f0f921\"]],\"type\":\"contour\"}],\"contourcarpet\":[{\"colorbar\":{\"outlinewidth\":0,\"ticks\":\"\"},\"type\":\"contourcarpet\"}],\"heatmap\":[{\"colorbar\":{\"outlinewidth\":0,\"ticks\":\"\"},\"colorscale\":[[0.0,\"#0d0887\"],[0.1111111111111111,\"#46039f\"],[0.2222222222222222,\"#7201a8\"],[0.3333333333333333,\"#9c179e\"],[0.4444444444444444,\"#bd3786\"],[0.5555555555555556,\"#d8576b\"],[0.6666666666666666,\"#ed7953\"],[0.7777777777777778,\"#fb9f3a\"],[0.8888888888888888,\"#fdca26\"],[1.0,\"#f0f921\"]],\"type\":\"heatmap\"}],\"heatmapgl\":[{\"colorbar\":{\"outlinewidth\":0,\"ticks\":\"\"},\"colorscale\":[[0.0,\"#0d0887\"],[0.1111111111111111,\"#46039f\"],[0.2222222222222222,\"#7201a8\"],[0.3333333333333333,\"#9c179e\"],[0.4444444444444444,\"#bd3786\"],[0.5555555555555556,\"#d8576b\"],[0.6666666666666666,\"#ed7953\"],[0.7777777777777778,\"#fb9f3a\"],[0.8888888888888888,\"#fdca26\"],[1.0,\"#f0f921\"]],\"type\":\"heatmapgl\"}],\"histogram\":[{\"marker\":{\"pattern\":{\"fillmode\":\"overlay\",\"size\":10,\"solidity\":0.2}},\"type\":\"histogram\"}],\"histogram2d\":[{\"colorbar\":{\"outlinewidth\":0,\"ticks\":\"\"},\"colorscale\":[[0.0,\"#0d0887\"],[0.1111111111111111,\"#46039f\"],[0.2222222222222222,\"#7201a8\"],[0.3333333333333333,\"#9c179e\"],[0.4444444444444444,\"#bd3786\"],[0.5555555555555556,\"#d8576b\"],[0.6666666666666666,\"#ed7953\"],[0.7777777777777778,\"#fb9f3a\"],[0.8888888888888888,\"#fdca26\"],[1.0,\"#f0f921\"]],\"type\":\"histogram2d\"}],\"histogram2dcontour\":[{\"colorbar\":{\"outlinewidth\":0,\"ticks\":\"\"},\"colorscale\":[[0.0,\"#0d0887\"],[0.1111111111111111,\"#46039f\"],[0.2222222222222222,\"#7201a8\"],[0.3333333333333333,\"#9c179e\"],[0.4444444444444444,\"#bd3786\"],[0.5555555555555556,\"#d8576b\"],[0.6666666666666666,\"#ed7953\"],[0.7777777777777778,\"#fb9f3a\"],[0.8888888888888888,\"#fdca26\"],[1.0,\"#f0f921\"]],\"type\":\"histogram2dcontour\"}],\"mesh3d\":[{\"colorbar\":{\"outlinewidth\":0,\"ticks\":\"\"},\"type\":\"mesh3d\"}],\"parcoords\":[{\"line\":{\"colorbar\":{\"outlinewidth\":0,\"ticks\":\"\"}},\"type\":\"parcoords\"}],\"pie\":[{\"automargin\":true,\"type\":\"pie\"}],\"scatter\":[{\"marker\":{\"colorbar\":{\"outlinewidth\":0,\"ticks\":\"\"}},\"type\":\"scatter\"}],\"scatter3d\":[{\"line\":{\"colorbar\":{\"outlinewidth\":0,\"ticks\":\"\"}},\"marker\":{\"colorbar\":{\"outlinewidth\":0,\"ticks\":\"\"}},\"type\":\"scatter3d\"}],\"scattercarpet\":[{\"marker\":{\"colorbar\":{\"outlinewidth\":0,\"ticks\":\"\"}},\"type\":\"scattercarpet\"}],\"scattergeo\":[{\"marker\":{\"colorbar\":{\"outlinewidth\":0,\"ticks\":\"\"}},\"type\":\"scattergeo\"}],\"scattergl\":[{\"marker\":{\"colorbar\":{\"outlinewidth\":0,\"ticks\":\"\"}},\"type\":\"scattergl\"}],\"scattermapbox\":[{\"marker\":{\"colorbar\":{\"outlinewidth\":0,\"ticks\":\"\"}},\"type\":\"scattermapbox\"}],\"scatterpolar\":[{\"marker\":{\"colorbar\":{\"outlinewidth\":0,\"ticks\":\"\"}},\"type\":\"scatterpolar\"}],\"scatterpolargl\":[{\"marker\":{\"colorbar\":{\"outlinewidth\":0,\"ticks\":\"\"}},\"type\":\"scatterpolargl\"}],\"scatterternary\":[{\"marker\":{\"colorbar\":{\"outlinewidth\":0,\"ticks\":\"\"}},\"type\":\"scatterternary\"}],\"surface\":[{\"colorbar\":{\"outlinewidth\":0,\"ticks\":\"\"},\"colorscale\":[[0.0,\"#0d0887\"],[0.1111111111111111,\"#46039f\"],[0.2222222222222222,\"#7201a8\"],[0.3333333333333333,\"#9c179e\"],[0.4444444444444444,\"#bd3786\"],[0.5555555555555556,\"#d8576b\"],[0.6666666666666666,\"#ed7953\"],[0.7777777777777778,\"#fb9f3a\"],[0.8888888888888888,\"#fdca26\"],[1.0,\"#f0f921\"]],\"type\":\"surface\"}],\"table\":[{\"cells\":{\"fill\":{\"color\":\"#EBF0F8\"},\"line\":{\"color\":\"white\"}},\"header\":{\"fill\":{\"color\":\"#C8D4E3\"},\"line\":{\"color\":\"white\"}},\"type\":\"table\"}]},\"layout\":{\"annotationdefaults\":{\"arrowcolor\":\"#2a3f5f\",\"arrowhead\":0,\"arrowwidth\":1},\"autotypenumbers\":\"strict\",\"coloraxis\":{\"colorbar\":{\"outlinewidth\":0,\"ticks\":\"\"}},\"colorscale\":{\"diverging\":[[0,\"#8e0152\"],[0.1,\"#c51b7d\"],[0.2,\"#de77ae\"],[0.3,\"#f1b6da\"],[0.4,\"#fde0ef\"],[0.5,\"#f7f7f7\"],[0.6,\"#e6f5d0\"],[0.7,\"#b8e186\"],[0.8,\"#7fbc41\"],[0.9,\"#4d9221\"],[1,\"#276419\"]],\"sequential\":[[0.0,\"#0d0887\"],[0.1111111111111111,\"#46039f\"],[0.2222222222222222,\"#7201a8\"],[0.3333333333333333,\"#9c179e\"],[0.4444444444444444,\"#bd3786\"],[0.5555555555555556,\"#d8576b\"],[0.6666666666666666,\"#ed7953\"],[0.7777777777777778,\"#fb9f3a\"],[0.8888888888888888,\"#fdca26\"],[1.0,\"#f0f921\"]],\"sequentialminus\":[[0.0,\"#0d0887\"],[0.1111111111111111,\"#46039f\"],[0.2222222222222222,\"#7201a8\"],[0.3333333333333333,\"#9c179e\"],[0.4444444444444444,\"#bd3786\"],[0.5555555555555556,\"#d8576b\"],[0.6666666666666666,\"#ed7953\"],[0.7777777777777778,\"#fb9f3a\"],[0.8888888888888888,\"#fdca26\"],[1.0,\"#f0f921\"]]},\"colorway\":[\"#636efa\",\"#EF553B\",\"#00cc96\",\"#ab63fa\",\"#FFA15A\",\"#19d3f3\",\"#FF6692\",\"#B6E880\",\"#FF97FF\",\"#FECB52\"],\"font\":{\"color\":\"#2a3f5f\"},\"geo\":{\"bgcolor\":\"white\",\"lakecolor\":\"white\",\"landcolor\":\"#E5ECF6\",\"showlakes\":true,\"showland\":true,\"subunitcolor\":\"white\"},\"hoverlabel\":{\"align\":\"left\"},\"hovermode\":\"closest\",\"mapbox\":{\"style\":\"light\"},\"paper_bgcolor\":\"white\",\"plot_bgcolor\":\"#E5ECF6\",\"polar\":{\"angularaxis\":{\"gridcolor\":\"white\",\"linecolor\":\"white\",\"ticks\":\"\"},\"bgcolor\":\"#E5ECF6\",\"radialaxis\":{\"gridcolor\":\"white\",\"linecolor\":\"white\",\"ticks\":\"\"}},\"scene\":{\"xaxis\":{\"backgroundcolor\":\"#E5ECF6\",\"gridcolor\":\"white\",\"gridwidth\":2,\"linecolor\":\"white\",\"showbackground\":true,\"ticks\":\"\",\"zerolinecolor\":\"white\"},\"yaxis\":{\"backgroundcolor\":\"#E5ECF6\",\"gridcolor\":\"white\",\"gridwidth\":2,\"linecolor\":\"white\",\"showbackground\":true,\"ticks\":\"\",\"zerolinecolor\":\"white\"},\"zaxis\":{\"backgroundcolor\":\"#E5ECF6\",\"gridcolor\":\"white\",\"gridwidth\":2,\"linecolor\":\"white\",\"showbackground\":true,\"ticks\":\"\",\"zerolinecolor\":\"white\"}},\"shapedefaults\":{\"line\":{\"color\":\"#2a3f5f\"}},\"ternary\":{\"aaxis\":{\"gridcolor\":\"white\",\"linecolor\":\"white\",\"ticks\":\"\"},\"baxis\":{\"gridcolor\":\"white\",\"linecolor\":\"white\",\"ticks\":\"\"},\"bgcolor\":\"#E5ECF6\",\"caxis\":{\"gridcolor\":\"white\",\"linecolor\":\"white\",\"ticks\":\"\"}},\"title\":{\"x\":0.05},\"xaxis\":{\"automargin\":true,\"gridcolor\":\"white\",\"linecolor\":\"white\",\"ticks\":\"\",\"title\":{\"standoff\":15},\"zerolinecolor\":\"white\",\"zerolinewidth\":2},\"yaxis\":{\"automargin\":true,\"gridcolor\":\"white\",\"linecolor\":\"white\",\"ticks\":\"\",\"title\":{\"standoff\":15},\"zerolinecolor\":\"white\",\"zerolinewidth\":2}}}},                        {\"responsive\": true}                    ).then(function(){\n",
              "                            \n",
              "var gd = document.getElementById('b451a452-ea19-40c8-bc07-ca4bf241436c');\n",
              "var x = new MutationObserver(function (mutations, observer) {{\n",
              "        var display = window.getComputedStyle(gd).display;\n",
              "        if (!display || display === 'none') {{\n",
              "            console.log([gd, 'removed!']);\n",
              "            Plotly.purge(gd);\n",
              "            observer.disconnect();\n",
              "        }}\n",
              "}});\n",
              "\n",
              "// Listen for the removal of the full notebook cells\n",
              "var notebookContainer = gd.closest('#notebook-container');\n",
              "if (notebookContainer) {{\n",
              "    x.observe(notebookContainer, {childList: true});\n",
              "}}\n",
              "\n",
              "// Listen for the clearing of the current output cell\n",
              "var outputEl = gd.closest('.output');\n",
              "if (outputEl) {{\n",
              "    x.observe(outputEl, {childList: true});\n",
              "}}\n",
              "\n",
              "                        })                };                            </script>        </div>\n",
              "</body>\n",
              "</html>"
            ]
          },
          "metadata": {}
        }
      ]
    },
    {
      "cell_type": "code",
      "source": [
        "y_true = 100 + 20 * np.random.randn(1000)\n",
        "y_pred = y_true + 10 * np.random.randn(1000)\n",
        "results = pd.DataFrame({'y_true':y_true, 'y_pred':y_pred})\n",
        "results['error'] = results.y_true - results.y_pred\n",
        "\n",
        "px.histogram(results, x='error', nbins=50)"
      ],
      "metadata": {
        "id": "G4ngDU7NnK0F",
        "outputId": "8e31369b-fc2c-4bb8-dd95-c29b3658bd48",
        "colab": {
          "base_uri": "https://localhost:8080/",
          "height": 542
        }
      },
      "execution_count": 11,
      "outputs": [
        {
          "output_type": "display_data",
          "data": {
            "text/html": [
              "<html>\n",
              "<head><meta charset=\"utf-8\" /></head>\n",
              "<body>\n",
              "    <div>            <script src=\"https://cdnjs.cloudflare.com/ajax/libs/mathjax/2.7.5/MathJax.js?config=TeX-AMS-MML_SVG\"></script><script type=\"text/javascript\">if (window.MathJax) {MathJax.Hub.Config({SVG: {font: \"STIX-Web\"}});}</script>                <script type=\"text/javascript\">window.PlotlyConfig = {MathJaxConfig: 'local'};</script>\n",
              "        <script src=\"https://cdn.plot.ly/plotly-2.8.3.min.js\"></script>                <div id=\"2b158f92-b2c1-4c98-aed6-d086fec5e27a\" class=\"plotly-graph-div\" style=\"height:525px; width:100%;\"></div>            <script type=\"text/javascript\">                                    window.PLOTLYENV=window.PLOTLYENV || {};                                    if (document.getElementById(\"2b158f92-b2c1-4c98-aed6-d086fec5e27a\")) {                    Plotly.newPlot(                        \"2b158f92-b2c1-4c98-aed6-d086fec5e27a\",                        [{\"alignmentgroup\":\"True\",\"bingroup\":\"x\",\"hovertemplate\":\"error=%{x}<br>count=%{y}<extra></extra>\",\"legendgroup\":\"\",\"marker\":{\"color\":\"#636efa\",\"pattern\":{\"shape\":\"\"}},\"name\":\"\",\"nbinsx\":50,\"offsetgroup\":\"\",\"orientation\":\"v\",\"showlegend\":false,\"x\":[-3.9910338916709804,-11.256774193644162,-17.438552855786384,3.1194833808633575,4.021402051555668,24.649268526206967,-0.6298906300032883,11.360017917314778,-0.4220551447161114,3.839307796437538,2.304561349982407,9.720568236370354,14.28490134574453,-1.9275320664708318,-16.388084035281125,4.943443745727549,-13.340984075531622,13.369475663380598,18.696766182529032,0.44018643534124635,-2.4837390458608297,0.05505984738783809,-23.702186490724657,-9.356675220384474,-14.454727000748107,-16.95011437921834,3.1753591334421714,8.788440688406197,-5.130778561288594,-2.3682938968194662,-5.082145936011074,-9.231586892646334,-4.005374838485423,-8.261331474005786,14.909303548262017,1.7419908586505528,-8.606361887322052,-13.45853442307802,2.973584068454443,-0.5812846868181367,-14.059680119279946,-15.87132775229395,3.7801108545755255,-6.099911442657017,-3.6256209321575454,3.7176127988568624,-0.9055210946564216,6.988619384654157,-5.970318791357485,17.84075279679324,-2.700231580634366,-9.148052198035913,-10.490999556604152,4.326891109270079,-11.068248195117548,-7.212690509443448,-5.346164963299543,-16.183234258228367,-17.692324916037933,-14.484203279954059,-18.14076239722162,-6.491015113348254,-2.684660937870575,-1.026027463638357,1.958835326840017,-2.6918354032335543,19.230323125153774,3.0810760040613587,11.852348462473387,-7.235276349200689,-16.337066373536402,-3.291984178405386,20.033851813626228,-15.61620007015199,12.177565691092411,-3.0291056452175695,1.5915205650854034,-6.012283437121496,-10.912959830702533,1.0539602788283702,-5.464097559211979,-2.952221270647499,-1.1670592615991495,-0.1922686337126578,-13.496618009245026,0.44817935869744474,12.829241105472505,-10.243028566511498,2.4111413626810787,-7.287229451993298,7.162506101584825,1.6204288911779656,-14.191113683821811,17.482079152027367,23.902531948053223,-9.311214462665546,-9.141011380244166,2.8944286904412877,2.6340462599931413,9.584180545826129,-4.644826930343157,16.55055493722739,-1.5580213445705056,-19.329477482692937,-6.453940457564087,0.5288528803026793,-6.7906907634512095,-18.908203512255824,24.7336865804947,4.977153353889989,12.78110207162328,9.292323597666453,-16.553236605133293,-10.447654515005539,-5.662178293651877,5.488307993233633,-9.424240973997229,-10.937616114147502,-14.405179126175796,2.6483498227989912,15.061956364783896,-25.183290723940004,-7.920945301715037,10.756927755987277,13.050116507638336,-16.18140847431387,28.82428797242362,-2.9753070909176103,-9.924178946839774,-15.319992565324611,-0.9940133523655845,17.88613946131592,9.168227885621633,-0.30936027373556385,-7.929480910275544,6.506189519405467,15.052865383477481,10.044580234768304,3.0957773903170676,-2.248575040870719,2.8758439436534786,-3.291632676756393,3.9623048854315925,-6.973411151501637,-1.9220180531237077,-6.968587902821923,-2.3365465560821406,18.03287547077919,4.929385481259942,-0.7428899216483558,9.435748763057575,2.247574022585283,-6.471389001735091,-1.4292191753363284,12.958703290267266,-3.705739510909055,4.387101696642816,-5.5933271013069685,-11.450051668892186,4.2232264250843485,-13.296281409492636,5.941652547985626,-13.945855490994688,8.96644462977234,0.11244562382411516,-10.85818926542153,20.876850581317612,2.5064869912301475,-1.5007517274915614,4.79742075598773,3.1324732958416774,3.0917293013403366,-5.983128192279537,1.9733730145138537,6.278436137677659,5.611939932925964,-11.367654406659284,2.1516257073721334,-2.9686309416808143,13.269848088013703,10.225593420653794,-14.578563859446028,-1.302919258845563,12.610689641844573,-2.389767650704613,18.75765789902914,6.909624810461722,5.806555185755201,18.026698869236483,-15.585588642342003,1.5914798357247832,-12.278963533355693,11.134846023377264,2.1400799116381393,3.2017866548598732,4.358549689649635,7.265308468495611,18.42571361444041,-4.834455833205567,-4.354356332961558,-5.120938197397564,-14.677259941655478,-1.3836226162922571,2.1060441260539164,9.123891651403284,-0.852467978995719,-5.516298803723188,-6.499872882231813,-2.978082981051628,7.609583721189793,-13.909601763257939,4.683423080397006,-15.827526375735829,-10.384837427939388,7.974008708923421,-10.311939997966789,4.588528750555653,-1.2750623175299154,-1.7299659177733702,15.921678887043612,4.105087400690856,13.541188760726001,-5.993570006429053,15.246988482862449,11.214117032097334,17.95319439770462,-1.921215496325459,4.363714075197215,-3.785759197472501,1.3407640370736686,-14.944408556053475,-3.0352821097099962,1.8299556305031643,0.15869932509527018,6.4712706851851465,8.794571375340652,12.668856983798598,-2.792018758868963,-10.817280465039872,-6.268898430969273,0.21900095506357786,0.8764333728669129,-9.428489775852178,-23.951761281121406,-0.6737540615947353,2.8790342566197893,2.449850176281231,-6.084877125763882,3.3658816978170023,-14.096553810702886,0.9419060303918769,-6.583258987468895,3.8431718353973707,16.348099052124226,0.4288339019953753,-14.375533629410782,1.3461982054723762,-12.85264021236084,12.423483814411526,-3.96723809231122,8.66605567074997,-6.2976901176907205,1.257395675011054,-6.462147804332943,0.28595873557122786,1.9990330717188272,11.001099608045564,-5.855598767270266,13.641930118347389,-4.699243092398575,-15.58217008358821,7.580173409247024,-18.956664510977518,-3.2400825429852347,3.320855591843099,5.876261453978046,12.959150315975876,-7.961556252461662,4.185344637631204,-7.3929076282346955,14.048250552991291,1.722936082226937,12.029149179986604,3.3324209282613566,5.37145401827064,1.4918832919048697,-7.995794182169675,3.2968848959111483,22.140366713345095,3.281546518852906,-12.71036346698736,-22.707127880460874,5.747702716683932,3.7982607145015947,18.17685809763428,-8.377818252073553,-5.316252081271017,-1.8584409601959067,-20.443942004943835,23.65710349082032,-1.120378595697531,-7.375100167037957,4.547811652132083,4.227924252082531,16.731760905292504,6.626610728315455,-7.710022285669311,9.787453198916367,0.8343897026652201,-15.167988274540718,20.145636530375867,9.426608265956077,-7.4909904882645435,6.135518818977928,3.8566167741068256,-12.170841663317887,-4.75353591077581,-3.7874094850790527,-9.785539664576106,0.20219008907804437,-15.312171739565258,-0.9413224903436088,-16.002925017300356,-10.038727249158484,10.782446937555179,6.871045110972659,1.7803663778888108,-12.615089635227037,3.7153408534433225,4.686663766957643,-0.8964951553555665,-8.163062392097743,1.0611962777144583,16.628045077067213,5.63937057615999,-7.781071008296834,11.418357744754061,-2.9679844706329277,2.9427371683203347,-2.200816116483523,5.624881577347011,-4.833456818972024,1.9177368800333028,-3.8741745792156337,-10.184918139476977,9.713634323768403,-2.951285217752414,13.039861771352008,-9.135025872768367,-14.563570350336988,8.082691777366009,-1.7897987703720588,0.42470731216455704,9.75466535372145,12.627558097770276,21.95829500362629,12.823925620262003,1.1181830485907653,2.974139089837678,2.468304262642178,-2.673170158319124,5.424526488931946,0.8733160203899786,-6.261985194539747,-0.08500006141292715,8.847980550679324,5.723417782629369,12.854721704847975,-4.130767947421035,-5.429716077150118,10.454469639351217,0.4729901653633988,11.970535931765966,-4.024210831753166,0.5417904135773384,7.023744556749961,0.07731979594105098,5.082288328277826,-1.398433582254313,10.92666653305119,14.509260194894622,3.1937578966249305,2.115362179543993,2.5722964438679057,-14.139382046449185,-1.3223081673535546,7.8604701932674885,-13.469145789246781,-2.901619101836175,-5.097974930228986,-7.146565031213754,-19.99314457530876,-7.050865489767972,-3.023040670184315,-4.766302842867475,0.0022129603826499533,4.595363860837182,-4.523113743760447,-16.477328921059595,-22.239845599637363,-6.120404908076708,5.291701656469655,20.39944996472297,5.215757350721361,-6.571162910881327,-11.022802569215216,3.2611140969868444,7.141086133284844,-12.439948504614037,-6.100370718358846,-2.378131667655353,26.898292485947408,-6.696749733495736,-3.004405266941305,-4.376838384996347,14.668344902466316,-5.76501604892151,16.458948698396526,6.099734302405139,-20.852487900850406,-8.700814166792227,19.422868616549003,-6.420285308334954,-4.0899977523638995,13.95470903504053,10.191170935854444,16.22375834409324,0.3560740683976604,-21.847408122794043,9.62168108738721,-11.921442225406366,-6.308573328197795,8.782067133793248,10.587262396982453,10.536175528600737,-17.095316857885138,-11.008063252454875,-7.419216306103323,-1.023329331624609,-1.6479463781045425,-0.2520287715536682,14.599742315475922,-12.29290902526914,-5.450215526896599,-2.911124612076293,0.023082292275319105,1.6459987860924343,10.904437621051699,-1.8762951963650352,-6.103118528889752,4.586559044072189,-7.0313539311404725,-5.446491288754515,4.334584955404807,-9.205946460368935,19.993831229532006,0.7279706114012328,2.5154196367820987,-4.634586406170527,-1.8383680640920943,-4.5304915510058095,-6.645471249521776,-8.331753716393507,-2.134049292983505,-17.45901223447558,-6.9741572821695,-9.913115596301921,8.333544764415493,-0.03985952244165958,-1.7824705354415755,14.714083020564615,-3.5543858099933914,-1.7117014592041215,3.536944267945671,1.4308010962743651,-3.160915723896508,8.303016808469323,-9.698214601871499,11.301295190655054,-11.317212634112735,10.893424775696332,5.6752948230614635,-10.929184308837307,-1.2438408858950396,-6.417310467030035,-8.74437495053742,3.8685189916160567,23.768020550949842,-3.7937727971921333,-12.245655374257879,12.93895380950839,-7.817377230350473,7.923604469398001,-9.610851634512699,-7.2092853862661315,2.570894650634898,3.0332476448134713,8.500992776507388,-6.482693718791538,-2.8162956242900634,1.0724130642303464,3.6429451089447866,-8.990699142482626,6.4911254728781955,-1.0044425332269213,-7.49358865644966,16.33624992756691,19.080981996299357,-4.337672307228502,17.001260156699985,-14.014945888898609,-2.9743772727979376,1.9809546824508573,-4.486268381999864,-9.366645069467282,15.302221663670252,0.9490602882243309,-16.68662539962385,-7.483529919336306,-7.8724155214673885,-1.1008221492571693,-9.055474065213502,-8.019451715329339,10.843708488526701,6.8487958152941815,-4.470622218746215,-11.578430029620876,-5.413584737926271,-9.300509075784817,10.750844984336325,-5.164154701400022,2.6659130770377715,-19.68058583206094,1.4699924990314344,21.670248605615058,10.822324406693241,2.2831672406249623,9.677395141117742,-12.563345839403837,-4.419373584469113,6.402384706247062,2.161461900427838,5.706102971527187,5.156392165413337,2.9896056235668738,10.118036499094941,-1.7430734475011747,-6.063471260110035,-4.477793720674441,1.7878567088903594,10.17959055669732,-20.49949536235141,33.83917333644185,10.338689462216834,6.985602847005708,6.646351707335313,-7.730949345041736,-1.5059018743871064,5.211284136942609,0.4408744830515303,4.3409976853918835,-4.503766342389241,-0.8687123378902868,9.01303760275502,0.22518090380388855,8.24282433118168,4.160534075046513,-7.664176671667811,7.079451244499751,2.853993397433186,-24.75854828739068,-10.864378105385413,3.004592869366874,3.188964854792175,8.440915604665364,-1.9178576731706443,9.329392243223154,2.1959476441076333,-16.060212335790794,-4.988069457771715,-7.711920927438257,9.364513439434418,20.68633314130946,13.516903435245325,17.657318291935397,11.630274807628624,-3.894279169616837,10.691502127661238,6.196015235624529,-3.6719254894979088,0.10253869587950248,12.152111000055399,4.422092300976885,-12.952833241823825,9.893217890174768,-9.196587612260345,-2.7394043376529424,-20.775884470291174,0.7193778756613654,12.514079461179463,-4.8435304193367585,-3.065214663269515,-0.7483377217058091,6.065650224992893,16.26236486664854,1.3477138879109418,13.6718843569777,1.102035794683502,-14.92450493934642,-2.094612996804429,0.22103683072684532,-24.973813819578652,-11.375456229678207,-9.801353805019716,-15.908437668998559,6.028719236672572,-2.627209081510969,2.349810775687928,0.14482311696208683,2.033192711122666,-4.6779369424000805,-3.980058992426507,-1.3712835315434688,-8.116678115175134,-0.646581799524256,-15.210235786983702,-11.716621990373142,1.727904508732081,-5.864426491063199,-18.475068436082253,-1.3827397165413942,3.0231545397065744,-1.2914072553412836,-23.04417229918505,5.619071470127565,2.1884285824593093,7.362302828306738,-12.152612040405415,-6.173208755378155,16.245354021957596,2.1978812906844354,2.7148070905798676,12.98617443180575,1.4176637407100117,6.450805613103029,6.57602953136454,11.402885361440994,-8.280844183915974,11.808767878650528,-4.299475534633913,4.004889935276452,-3.912341939803511,2.023475481829877,-5.07129158768042,5.748950037478565,-21.295153642476606,-10.742188506392054,2.5786937119244016,-5.532851743416003,-3.292525141495034,17.19046621358764,0.21104783798043059,-27.79515187459093,1.2451206134533876,14.409907424640792,1.8513440358385367,-15.292534102060998,-2.13589521795663,15.860225471857106,28.662751290402724,-6.920039705300894,1.131186521094648,13.89591971940277,16.73939099600969,2.4119891711071944,-7.343862017793782,5.211743232030244,22.060918716758223,11.447316654205466,-13.44509198265385,5.518859184381398,12.226790299554068,6.955300575154908,4.116402943382738,-6.385684542942073,6.6463914541868405,-2.423403965396602,-4.397984628184901,-13.436833365483537,-4.007243235450275,-0.1593546858608761,-9.292530008019867,-10.37621354549107,2.5397129923817516,7.26865793616588,-1.8585135539109672,-3.242677815123372,10.09779156374887,-3.682192619562457,9.824791996177069,7.363126928263085,-12.860235838648478,16.816313620284745,-12.960898679060591,1.2406698540917347,-8.26424506693732,-1.0943122390444415,-7.32431682857829,8.444356485928267,-1.8840414002298758,-7.028609008119261,-18.978874559970862,-12.80919939042515,19.446549496450714,10.450687415432029,-1.0517527049388207,18.38847262745479,14.257568851575698,-11.737689615420564,-11.185014337779691,-13.876323934874115,14.258652512413846,0.19702352810891455,13.731940024094925,15.826222346471411,-3.6592516462756493,-8.594047626095673,-3.6240118431472297,-9.372013529146855,5.115507077156195,-22.36911683542405,3.326280540988762,0.5069151380669439,2.016261309369753,0.23125642372831123,-6.217694243258677,-16.77068978268784,-8.640922262454538,13.508396988997632,-13.73972471891527,-10.346568146337916,-13.031617448368728,-5.067870371295001,17.530138767378787,-11.197927271977136,-16.28011485112765,-9.422666925271741,1.8838054409766443,7.156753987146885,9.172090829346942,-8.881540977463274,-9.175536396137375,-2.801395989844636,-12.387243433478687,2.9963249186385355,-1.491043954686205,3.7970379034195645,-17.97827180004613,-5.376789285457534,16.956407610124387,-16.802715594180313,11.902694750093886,2.0539634001333553,1.6329582084169658,9.78273284377417,-1.9941029413364504,-1.565168924390889,9.780217333995978,5.198782615213389,7.659353575595482,-11.951434475384602,2.680180169345178,0.8835636891649443,17.92242053327169,-2.5591174686290827,2.7708910065143186,-2.0686232677530114,7.9902289079934405,7.223081302684747,6.178940817355382,-15.970612985552755,11.06401818625352,-15.622665467743744,10.364541467528937,15.092478812007698,5.52459603996769,13.163393290712335,0.08560877100046582,-12.15195151696794,1.9720772939415099,5.061652467873799,12.932009798264303,12.066522017336055,20.101005119767535,-3.416687585656561,-0.9557807493112307,17.86334648836288,1.8774229660678259,-15.525705596205825,-1.635769662822753,-10.114544816263646,-0.24979196070380283,-0.9117704261947068,3.8192893016368714,-18.308130766348043,16.70728109310025,3.2616407249979886,-1.3796123993188019,2.029872690316509,4.2561751108443815,-1.1044987690602142,6.846697661636526,-4.971329190503141,8.911904592318834,-3.78799126471786,-15.246683602472956,2.4345578584708676,-0.54857164706101,9.740871268864254,6.000850041614825,6.120181157989137,-9.817602358310381,-11.590843489519983,-11.294624143376936,6.511044530161925,11.172182253178605,-2.205378352327976,3.3987165111589945,-6.127749118844818,5.389143011435806,-1.0656076565737465,8.970581983846884,-3.934310704342238,-12.024167952871522,2.6392188613078673,-16.48204926749068,9.659749981538056,28.36677568445849,-4.144788029529508,-3.9720631160043496,-1.6806925004799211,3.716765483935589,-2.020507646361814,-3.4404058422324653,15.389408837619996,8.748230819139664,-13.503840288636383,-8.393585559013658,2.9529068084365377,-4.406616026645025,-3.8367165484952324,15.439209305557725,17.091865688597693,-20.201616756460268,9.041420899986889,1.1847524155855922,0.4109438851576641,-10.801242760239433,15.505259722124265,-7.122902716713114,0.9039245840233576,11.894980869428693,2.3883833321714008,-24.34720976201919,13.07588539210876,-0.13518307267520413,-8.048194166458913,4.297057088523346,3.48083859145882,-5.989887287936398,15.588527169736807,-7.240924270246964,1.320343664536452,-22.89352062695575,-7.1069250197763125,16.139447068814604,-12.639096873709008,-11.949018086157281,-9.949490132017033,-1.866949677400342,-1.5229646105967873,-5.558106539919677,1.37539279318473,-6.210104771039141,11.451820552668437,7.266221961880632,5.168728786347472,-15.10687983153224,1.7861312880716724,7.913295633210382,2.5391747937442233,-0.05436116982866679,3.762469997280803,8.364334415738142,0.21418815631987798,5.441894897790803,-3.7137382592641046,8.848464275605153,-8.793554837244443,22.151137803612045,13.272864195991616,7.510180509097864,3.1307446131725243,-6.665012943682456,3.857545681536223,4.86507454334965,2.9621208945398507,15.311954164751015,-1.636781012958366,-2.462926668408258,10.357117852804379,7.549543560973817,12.09989275356132,-3.452773818476004,-7.524201605859304,0.03594478096445641,5.762148897292221,-3.9463694021350904,18.86931272232553,-5.576418160590222,6.682517945484122,-11.778614704904285,-7.437822390610023,-8.529610162269677,-8.231273608173495,-7.09673908264655,28.778238565150538,6.782418000006885,-15.714989612035865,8.847549176397578,14.986117773430763,11.72785896838161,-10.404839172038962,-7.531319171595811,-4.897390635732137,-6.015810501510572,0.5816615443663693,-1.9731970816261253,-8.504061467062513,1.8221305318434275,21.822353505083342,6.2885569694179395,-14.26535509309889,3.564761695268416,6.2754212392407425,-7.641651461693456,1.1789219874783896,-8.713533944694369,-9.536061397022777,11.394145505356605,-8.056038417326363,13.778161318149898,-9.950479812619932,-6.176418145232546,8.67524920202284,4.510301038675735,15.946866638410228,-13.129924627223687,0.9098217853084662,8.151458956582147,12.730818640409176,-10.44040071018793,-1.0009271382058955,0.0001185122754634449,9.812055253616691,-22.9984783934038,15.438151246988689,-17.47402960668171,7.063722603009808,11.037231334941893,9.12753935487089,-6.76616399762851,-1.3592418440390617,9.799241340740451,8.231730874201162,-3.0972435566855268,-3.394143314281962,6.7085571952049605,-2.075640642580268,10.570179657553055,-4.688662328546343,9.480834317350116,-1.8871750972804904,-3.7033943820025854,4.187225751651937,12.9549767031436,6.295648092478487,-2.9504611276586417,-12.55424489375082,-11.119774128093056,-0.5004122513368685,11.591144820172985,4.163568960370242,4.788678405494139,14.4207450277043,20.38975515061624,-8.750781308852268,7.28250905914939,-0.34541598516594263,9.39823838716515],\"xaxis\":\"x\",\"yaxis\":\"y\",\"type\":\"histogram\"}],                        {\"template\":{\"data\":{\"bar\":[{\"error_x\":{\"color\":\"#2a3f5f\"},\"error_y\":{\"color\":\"#2a3f5f\"},\"marker\":{\"line\":{\"color\":\"#E5ECF6\",\"width\":0.5},\"pattern\":{\"fillmode\":\"overlay\",\"size\":10,\"solidity\":0.2}},\"type\":\"bar\"}],\"barpolar\":[{\"marker\":{\"line\":{\"color\":\"#E5ECF6\",\"width\":0.5},\"pattern\":{\"fillmode\":\"overlay\",\"size\":10,\"solidity\":0.2}},\"type\":\"barpolar\"}],\"carpet\":[{\"aaxis\":{\"endlinecolor\":\"#2a3f5f\",\"gridcolor\":\"white\",\"linecolor\":\"white\",\"minorgridcolor\":\"white\",\"startlinecolor\":\"#2a3f5f\"},\"baxis\":{\"endlinecolor\":\"#2a3f5f\",\"gridcolor\":\"white\",\"linecolor\":\"white\",\"minorgridcolor\":\"white\",\"startlinecolor\":\"#2a3f5f\"},\"type\":\"carpet\"}],\"choropleth\":[{\"colorbar\":{\"outlinewidth\":0,\"ticks\":\"\"},\"type\":\"choropleth\"}],\"contour\":[{\"colorbar\":{\"outlinewidth\":0,\"ticks\":\"\"},\"colorscale\":[[0.0,\"#0d0887\"],[0.1111111111111111,\"#46039f\"],[0.2222222222222222,\"#7201a8\"],[0.3333333333333333,\"#9c179e\"],[0.4444444444444444,\"#bd3786\"],[0.5555555555555556,\"#d8576b\"],[0.6666666666666666,\"#ed7953\"],[0.7777777777777778,\"#fb9f3a\"],[0.8888888888888888,\"#fdca26\"],[1.0,\"#f0f921\"]],\"type\":\"contour\"}],\"contourcarpet\":[{\"colorbar\":{\"outlinewidth\":0,\"ticks\":\"\"},\"type\":\"contourcarpet\"}],\"heatmap\":[{\"colorbar\":{\"outlinewidth\":0,\"ticks\":\"\"},\"colorscale\":[[0.0,\"#0d0887\"],[0.1111111111111111,\"#46039f\"],[0.2222222222222222,\"#7201a8\"],[0.3333333333333333,\"#9c179e\"],[0.4444444444444444,\"#bd3786\"],[0.5555555555555556,\"#d8576b\"],[0.6666666666666666,\"#ed7953\"],[0.7777777777777778,\"#fb9f3a\"],[0.8888888888888888,\"#fdca26\"],[1.0,\"#f0f921\"]],\"type\":\"heatmap\"}],\"heatmapgl\":[{\"colorbar\":{\"outlinewidth\":0,\"ticks\":\"\"},\"colorscale\":[[0.0,\"#0d0887\"],[0.1111111111111111,\"#46039f\"],[0.2222222222222222,\"#7201a8\"],[0.3333333333333333,\"#9c179e\"],[0.4444444444444444,\"#bd3786\"],[0.5555555555555556,\"#d8576b\"],[0.6666666666666666,\"#ed7953\"],[0.7777777777777778,\"#fb9f3a\"],[0.8888888888888888,\"#fdca26\"],[1.0,\"#f0f921\"]],\"type\":\"heatmapgl\"}],\"histogram\":[{\"marker\":{\"pattern\":{\"fillmode\":\"overlay\",\"size\":10,\"solidity\":0.2}},\"type\":\"histogram\"}],\"histogram2d\":[{\"colorbar\":{\"outlinewidth\":0,\"ticks\":\"\"},\"colorscale\":[[0.0,\"#0d0887\"],[0.1111111111111111,\"#46039f\"],[0.2222222222222222,\"#7201a8\"],[0.3333333333333333,\"#9c179e\"],[0.4444444444444444,\"#bd3786\"],[0.5555555555555556,\"#d8576b\"],[0.6666666666666666,\"#ed7953\"],[0.7777777777777778,\"#fb9f3a\"],[0.8888888888888888,\"#fdca26\"],[1.0,\"#f0f921\"]],\"type\":\"histogram2d\"}],\"histogram2dcontour\":[{\"colorbar\":{\"outlinewidth\":0,\"ticks\":\"\"},\"colorscale\":[[0.0,\"#0d0887\"],[0.1111111111111111,\"#46039f\"],[0.2222222222222222,\"#7201a8\"],[0.3333333333333333,\"#9c179e\"],[0.4444444444444444,\"#bd3786\"],[0.5555555555555556,\"#d8576b\"],[0.6666666666666666,\"#ed7953\"],[0.7777777777777778,\"#fb9f3a\"],[0.8888888888888888,\"#fdca26\"],[1.0,\"#f0f921\"]],\"type\":\"histogram2dcontour\"}],\"mesh3d\":[{\"colorbar\":{\"outlinewidth\":0,\"ticks\":\"\"},\"type\":\"mesh3d\"}],\"parcoords\":[{\"line\":{\"colorbar\":{\"outlinewidth\":0,\"ticks\":\"\"}},\"type\":\"parcoords\"}],\"pie\":[{\"automargin\":true,\"type\":\"pie\"}],\"scatter\":[{\"marker\":{\"colorbar\":{\"outlinewidth\":0,\"ticks\":\"\"}},\"type\":\"scatter\"}],\"scatter3d\":[{\"line\":{\"colorbar\":{\"outlinewidth\":0,\"ticks\":\"\"}},\"marker\":{\"colorbar\":{\"outlinewidth\":0,\"ticks\":\"\"}},\"type\":\"scatter3d\"}],\"scattercarpet\":[{\"marker\":{\"colorbar\":{\"outlinewidth\":0,\"ticks\":\"\"}},\"type\":\"scattercarpet\"}],\"scattergeo\":[{\"marker\":{\"colorbar\":{\"outlinewidth\":0,\"ticks\":\"\"}},\"type\":\"scattergeo\"}],\"scattergl\":[{\"marker\":{\"colorbar\":{\"outlinewidth\":0,\"ticks\":\"\"}},\"type\":\"scattergl\"}],\"scattermapbox\":[{\"marker\":{\"colorbar\":{\"outlinewidth\":0,\"ticks\":\"\"}},\"type\":\"scattermapbox\"}],\"scatterpolar\":[{\"marker\":{\"colorbar\":{\"outlinewidth\":0,\"ticks\":\"\"}},\"type\":\"scatterpolar\"}],\"scatterpolargl\":[{\"marker\":{\"colorbar\":{\"outlinewidth\":0,\"ticks\":\"\"}},\"type\":\"scatterpolargl\"}],\"scatterternary\":[{\"marker\":{\"colorbar\":{\"outlinewidth\":0,\"ticks\":\"\"}},\"type\":\"scatterternary\"}],\"surface\":[{\"colorbar\":{\"outlinewidth\":0,\"ticks\":\"\"},\"colorscale\":[[0.0,\"#0d0887\"],[0.1111111111111111,\"#46039f\"],[0.2222222222222222,\"#7201a8\"],[0.3333333333333333,\"#9c179e\"],[0.4444444444444444,\"#bd3786\"],[0.5555555555555556,\"#d8576b\"],[0.6666666666666666,\"#ed7953\"],[0.7777777777777778,\"#fb9f3a\"],[0.8888888888888888,\"#fdca26\"],[1.0,\"#f0f921\"]],\"type\":\"surface\"}],\"table\":[{\"cells\":{\"fill\":{\"color\":\"#EBF0F8\"},\"line\":{\"color\":\"white\"}},\"header\":{\"fill\":{\"color\":\"#C8D4E3\"},\"line\":{\"color\":\"white\"}},\"type\":\"table\"}]},\"layout\":{\"annotationdefaults\":{\"arrowcolor\":\"#2a3f5f\",\"arrowhead\":0,\"arrowwidth\":1},\"autotypenumbers\":\"strict\",\"coloraxis\":{\"colorbar\":{\"outlinewidth\":0,\"ticks\":\"\"}},\"colorscale\":{\"diverging\":[[0,\"#8e0152\"],[0.1,\"#c51b7d\"],[0.2,\"#de77ae\"],[0.3,\"#f1b6da\"],[0.4,\"#fde0ef\"],[0.5,\"#f7f7f7\"],[0.6,\"#e6f5d0\"],[0.7,\"#b8e186\"],[0.8,\"#7fbc41\"],[0.9,\"#4d9221\"],[1,\"#276419\"]],\"sequential\":[[0.0,\"#0d0887\"],[0.1111111111111111,\"#46039f\"],[0.2222222222222222,\"#7201a8\"],[0.3333333333333333,\"#9c179e\"],[0.4444444444444444,\"#bd3786\"],[0.5555555555555556,\"#d8576b\"],[0.6666666666666666,\"#ed7953\"],[0.7777777777777778,\"#fb9f3a\"],[0.8888888888888888,\"#fdca26\"],[1.0,\"#f0f921\"]],\"sequentialminus\":[[0.0,\"#0d0887\"],[0.1111111111111111,\"#46039f\"],[0.2222222222222222,\"#7201a8\"],[0.3333333333333333,\"#9c179e\"],[0.4444444444444444,\"#bd3786\"],[0.5555555555555556,\"#d8576b\"],[0.6666666666666666,\"#ed7953\"],[0.7777777777777778,\"#fb9f3a\"],[0.8888888888888888,\"#fdca26\"],[1.0,\"#f0f921\"]]},\"colorway\":[\"#636efa\",\"#EF553B\",\"#00cc96\",\"#ab63fa\",\"#FFA15A\",\"#19d3f3\",\"#FF6692\",\"#B6E880\",\"#FF97FF\",\"#FECB52\"],\"font\":{\"color\":\"#2a3f5f\"},\"geo\":{\"bgcolor\":\"white\",\"lakecolor\":\"white\",\"landcolor\":\"#E5ECF6\",\"showlakes\":true,\"showland\":true,\"subunitcolor\":\"white\"},\"hoverlabel\":{\"align\":\"left\"},\"hovermode\":\"closest\",\"mapbox\":{\"style\":\"light\"},\"paper_bgcolor\":\"white\",\"plot_bgcolor\":\"#E5ECF6\",\"polar\":{\"angularaxis\":{\"gridcolor\":\"white\",\"linecolor\":\"white\",\"ticks\":\"\"},\"bgcolor\":\"#E5ECF6\",\"radialaxis\":{\"gridcolor\":\"white\",\"linecolor\":\"white\",\"ticks\":\"\"}},\"scene\":{\"xaxis\":{\"backgroundcolor\":\"#E5ECF6\",\"gridcolor\":\"white\",\"gridwidth\":2,\"linecolor\":\"white\",\"showbackground\":true,\"ticks\":\"\",\"zerolinecolor\":\"white\"},\"yaxis\":{\"backgroundcolor\":\"#E5ECF6\",\"gridcolor\":\"white\",\"gridwidth\":2,\"linecolor\":\"white\",\"showbackground\":true,\"ticks\":\"\",\"zerolinecolor\":\"white\"},\"zaxis\":{\"backgroundcolor\":\"#E5ECF6\",\"gridcolor\":\"white\",\"gridwidth\":2,\"linecolor\":\"white\",\"showbackground\":true,\"ticks\":\"\",\"zerolinecolor\":\"white\"}},\"shapedefaults\":{\"line\":{\"color\":\"#2a3f5f\"}},\"ternary\":{\"aaxis\":{\"gridcolor\":\"white\",\"linecolor\":\"white\",\"ticks\":\"\"},\"baxis\":{\"gridcolor\":\"white\",\"linecolor\":\"white\",\"ticks\":\"\"},\"bgcolor\":\"#E5ECF6\",\"caxis\":{\"gridcolor\":\"white\",\"linecolor\":\"white\",\"ticks\":\"\"}},\"title\":{\"x\":0.05},\"xaxis\":{\"automargin\":true,\"gridcolor\":\"white\",\"linecolor\":\"white\",\"ticks\":\"\",\"title\":{\"standoff\":15},\"zerolinecolor\":\"white\",\"zerolinewidth\":2},\"yaxis\":{\"automargin\":true,\"gridcolor\":\"white\",\"linecolor\":\"white\",\"ticks\":\"\",\"title\":{\"standoff\":15},\"zerolinecolor\":\"white\",\"zerolinewidth\":2}}},\"xaxis\":{\"anchor\":\"y\",\"domain\":[0.0,1.0],\"title\":{\"text\":\"error\"}},\"yaxis\":{\"anchor\":\"x\",\"domain\":[0.0,1.0],\"title\":{\"text\":\"count\"}},\"legend\":{\"tracegroupgap\":0},\"margin\":{\"t\":60},\"barmode\":\"relative\"},                        {\"responsive\": true}                    ).then(function(){\n",
              "                            \n",
              "var gd = document.getElementById('2b158f92-b2c1-4c98-aed6-d086fec5e27a');\n",
              "var x = new MutationObserver(function (mutations, observer) {{\n",
              "        var display = window.getComputedStyle(gd).display;\n",
              "        if (!display || display === 'none') {{\n",
              "            console.log([gd, 'removed!']);\n",
              "            Plotly.purge(gd);\n",
              "            observer.disconnect();\n",
              "        }}\n",
              "}});\n",
              "\n",
              "// Listen for the removal of the full notebook cells\n",
              "var notebookContainer = gd.closest('#notebook-container');\n",
              "if (notebookContainer) {{\n",
              "    x.observe(notebookContainer, {childList: true});\n",
              "}}\n",
              "\n",
              "// Listen for the clearing of the current output cell\n",
              "var outputEl = gd.closest('.output');\n",
              "if (outputEl) {{\n",
              "    x.observe(outputEl, {childList: true});\n",
              "}}\n",
              "\n",
              "                        })                };                            </script>        </div>\n",
              "</body>\n",
              "</html>"
            ]
          },
          "metadata": {}
        }
      ]
    },
    {
      "cell_type": "markdown",
      "metadata": {
        "id": "ZVr1O1j3FFiM"
      },
      "source": [
        "### <a name='a3'></a> Mean Absolute Error - Średni błąd bezwzględny\n",
        "### $$MAE = \\frac{1}{n}\\sum_{i=1}^{n}|y_{true} - y_{pred}|$$"
      ]
    },
    {
      "cell_type": "code",
      "source": [
        "def mean_absolute_error(y_true, y_pred):\n",
        "  return abs(y_true - y_pred).sum() / len(y_true)\n",
        "\n",
        "mean_absolute_error(y_true, y_pred)"
      ],
      "metadata": {
        "id": "YaCA9nlGoP9A",
        "outputId": "e82e0071-9f08-4228-bd64-a2d07f3d9297",
        "colab": {
          "base_uri": "https://localhost:8080/"
        }
      },
      "execution_count": 15,
      "outputs": [
        {
          "output_type": "execute_result",
          "data": {
            "text/plain": [
              "7.989666858421548"
            ]
          },
          "metadata": {},
          "execution_count": 15
        }
      ]
    },
    {
      "cell_type": "code",
      "source": [
        "from sklearn.metrics import mean_absolute_error\n",
        "mean_absolute_error(y_true, y_pred)"
      ],
      "metadata": {
        "id": "Pz50Qx0Eo2NU",
        "outputId": "f370d47f-6201-45ba-c482-bbdc4aef6676",
        "colab": {
          "base_uri": "https://localhost:8080/"
        }
      },
      "execution_count": 16,
      "outputs": [
        {
          "output_type": "execute_result",
          "data": {
            "text/plain": [
              "7.989666858421548"
            ]
          },
          "metadata": {},
          "execution_count": 16
        }
      ]
    },
    {
      "cell_type": "markdown",
      "metadata": {
        "id": "dbAtacGCGjaR"
      },
      "source": [
        "### <a name='a4'></a> Mean Squared Error - MSE - Błąd średniokwadratowy\n",
        "### $$MSE = \\frac{1}{n}\\sum_{i=1}^{n}(y_{true} - y_{pred})^{2}$$"
      ]
    },
    {
      "cell_type": "code",
      "source": [
        "def mse(y_true, y_pred):\n",
        "  return ((y_true - y_pred)**2).sum() / len(y_true)\n",
        "\n",
        "mse(y_true, y_pred)"
      ],
      "metadata": {
        "id": "2ffjHvnmpDT1",
        "outputId": "b5b209bf-37dc-4b7f-8a2a-35890f9d3b8b",
        "colab": {
          "base_uri": "https://localhost:8080/"
        }
      },
      "execution_count": 17,
      "outputs": [
        {
          "output_type": "execute_result",
          "data": {
            "text/plain": [
              "99.70510373760375"
            ]
          },
          "metadata": {},
          "execution_count": 17
        }
      ]
    },
    {
      "cell_type": "code",
      "source": [
        "from sklearn.metrics import mean_squared_error\n",
        "mean_squared_error(y_true, y_pred)"
      ],
      "metadata": {
        "id": "b5ZwUSNopatL",
        "outputId": "7aaa585a-1de6-4745-efd7-7cc4ab073dec",
        "colab": {
          "base_uri": "https://localhost:8080/"
        }
      },
      "execution_count": 18,
      "outputs": [
        {
          "output_type": "execute_result",
          "data": {
            "text/plain": [
              "99.70510373760375"
            ]
          },
          "metadata": {},
          "execution_count": 18
        }
      ]
    },
    {
      "cell_type": "markdown",
      "metadata": {
        "id": "SKJJg3jNG-xj"
      },
      "source": [
        "### <a name='a5'></a> Root Mean Squared Error - RMSE - Pierwiastek błędu średniokwadratowego\n",
        "### $$RMSE = \\sqrt{MSE}$$\n",
        "\n",
        "Mowi jak srednio predykcje odbiegaja od wartosci prawdziwych"
      ]
    },
    {
      "cell_type": "code",
      "source": [
        "def rmse(y_true, y_pred):\n",
        "  return np.sqrt(((y_true - y_pred)**2).sum() / len(y_true))\n",
        "rmse(y_true, y_pred)"
      ],
      "metadata": {
        "id": "auj2KRnDpqeV",
        "outputId": "9f3c00e2-31b0-4df1-f979-5114e5372bbb",
        "colab": {
          "base_uri": "https://localhost:8080/"
        }
      },
      "execution_count": 20,
      "outputs": [
        {
          "output_type": "execute_result",
          "data": {
            "text/plain": [
              "9.985244300346574"
            ]
          },
          "metadata": {},
          "execution_count": 20
        }
      ]
    },
    {
      "cell_type": "code",
      "source": [
        "np.sqrt(mean_squared_error(y_true, y_pred))"
      ],
      "metadata": {
        "id": "R83LzzMIp7do",
        "outputId": "50d8112e-dc09-4215-ffa9-849abee01ad1",
        "colab": {
          "base_uri": "https://localhost:8080/"
        }
      },
      "execution_count": 23,
      "outputs": [
        {
          "output_type": "execute_result",
          "data": {
            "text/plain": [
              "9.985244300346574"
            ]
          },
          "metadata": {},
          "execution_count": 23
        }
      ]
    },
    {
      "cell_type": "markdown",
      "metadata": {
        "id": "wzS5t7dzIH-x"
      },
      "source": [
        "### <a name='a6'></a>  Max Error - Błąd maksymalny\n",
        "\n",
        "$$ME = max(|y\\_true - y\\_pred|)$$ "
      ]
    },
    {
      "cell_type": "code",
      "source": [
        "def max_error(y_true, y_pred):\n",
        "  return abs(y_true - y_pred).max()\n",
        "max_error(y_true, y_pred)\n"
      ],
      "metadata": {
        "id": "xIwcMnUnqixx",
        "outputId": "8c32dd46-3376-4871-ac2c-2755c0e2827d",
        "colab": {
          "base_uri": "https://localhost:8080/"
        }
      },
      "execution_count": 25,
      "outputs": [
        {
          "output_type": "execute_result",
          "data": {
            "text/plain": [
              "33.83917333644185"
            ]
          },
          "metadata": {},
          "execution_count": 25
        }
      ]
    },
    {
      "cell_type": "code",
      "source": [
        "from sklearn.metrics import max_error\n",
        "max_error(y_true, y_pred)"
      ],
      "metadata": {
        "id": "U8D3K5TDqxME",
        "outputId": "d9d05670-99d0-44db-f84b-1c38615e1058",
        "colab": {
          "base_uri": "https://localhost:8080/"
        }
      },
      "execution_count": 26,
      "outputs": [
        {
          "output_type": "execute_result",
          "data": {
            "text/plain": [
              "33.83917333644185"
            ]
          },
          "metadata": {},
          "execution_count": 26
        }
      ]
    },
    {
      "cell_type": "markdown",
      "metadata": {
        "id": "xRrH2NA5IYt9"
      },
      "source": [
        "### <a name='a7'></a>  R2 score - współczynnik determinacji\n",
        "### $$R2\\_score = 1 - \\frac{\\sum_{i=1}^{N}(y_{true} - y_{pred})^{2}}{\\sum_{i=1}^{N}(y_{true} - \\overline{y_{true}})^{2}}$$"
      ]
    },
    {
      "cell_type": "code",
      "metadata": {
        "id": "xuBi36i72dOY",
        "outputId": "7c408799-7d6a-4595-f115-b3cbd1298f61",
        "colab": {
          "base_uri": "https://localhost:8080/"
        }
      },
      "source": [
        "def r2_score(y_true, y_pred):\n",
        "  return 1 - ((y_true - y_pred)**2).sum() / ((y_true - y_true.mean())**2).sum()\n",
        "r2_score(y_true, y_pred)"
      ],
      "execution_count": 28,
      "outputs": [
        {
          "output_type": "execute_result",
          "data": {
            "text/plain": [
              "0.7576346398333683"
            ]
          },
          "metadata": {},
          "execution_count": 28
        }
      ]
    },
    {
      "cell_type": "code",
      "source": [
        "from sklearn.metrics import r2_score\n",
        "r2_score(y_true, y_pred)"
      ],
      "metadata": {
        "id": "GwXKB_P1rOfC",
        "outputId": "e87eebd4-f43d-4d85-88be-92bfc45e0ca6",
        "colab": {
          "base_uri": "https://localhost:8080/"
        }
      },
      "execution_count": 29,
      "outputs": [
        {
          "output_type": "execute_result",
          "data": {
            "text/plain": [
              "0.7576346398333683"
            ]
          },
          "metadata": {},
          "execution_count": 29
        }
      ]
    },
    {
      "cell_type": "code",
      "source": [
        ""
      ],
      "metadata": {
        "id": "qA3ZRJuBrYQM"
      },
      "execution_count": null,
      "outputs": []
    }
  ]
}